{
 "cells": [
  {
   "cell_type": "markdown",
   "metadata": {},
   "source": [
    "# NLP Project (Assignment-3) - Resume Screening Project"
   ]
  },
  {
   "cell_type": "markdown",
   "metadata": {},
   "source": [
    "#### Importing the necessary libraries"
   ]
  },
  {
   "cell_type": "code",
   "execution_count": 1,
   "id": "dd4001d1",
   "metadata": {},
   "outputs": [],
   "source": [
    "import numpy as np\n",
    "import pandas as pd\n",
    "import matplotlib.pyplot as plt\n",
    "import seaborn as sns"
   ]
  },
  {
   "cell_type": "markdown",
   "metadata": {},
   "source": [
    "#### Importing the dataset into dataframe and displaying the first 5 rows in it."
   ]
  },
  {
   "cell_type": "code",
   "execution_count": 2,
   "id": "7f5bc96c",
   "metadata": {},
   "outputs": [
    {
     "data": {
      "text/html": [
       "<div>\n",
       "<style scoped>\n",
       "    .dataframe tbody tr th:only-of-type {\n",
       "        vertical-align: middle;\n",
       "    }\n",
       "\n",
       "    .dataframe tbody tr th {\n",
       "        vertical-align: top;\n",
       "    }\n",
       "\n",
       "    .dataframe thead th {\n",
       "        text-align: right;\n",
       "    }\n",
       "</style>\n",
       "<table border=\"1\" class=\"dataframe\">\n",
       "  <thead>\n",
       "    <tr style=\"text-align: right;\">\n",
       "      <th></th>\n",
       "      <th>Category</th>\n",
       "      <th>Resume</th>\n",
       "    </tr>\n",
       "  </thead>\n",
       "  <tbody>\n",
       "    <tr>\n",
       "      <th>0</th>\n",
       "      <td>Data Science</td>\n",
       "      <td>Skills * Programming Languages: Python (pandas...</td>\n",
       "    </tr>\n",
       "    <tr>\n",
       "      <th>1</th>\n",
       "      <td>Data Science</td>\n",
       "      <td>Education Details \\r\\nMay 2013 to May 2017 B.E...</td>\n",
       "    </tr>\n",
       "    <tr>\n",
       "      <th>2</th>\n",
       "      <td>Data Science</td>\n",
       "      <td>Areas of Interest Deep Learning, Control Syste...</td>\n",
       "    </tr>\n",
       "    <tr>\n",
       "      <th>3</th>\n",
       "      <td>Data Science</td>\n",
       "      <td>Skills â¢ R â¢ Python â¢ SAP HANA â¢ Table...</td>\n",
       "    </tr>\n",
       "    <tr>\n",
       "      <th>4</th>\n",
       "      <td>Data Science</td>\n",
       "      <td>Education Details \\r\\n MCA   YMCAUST,  Faridab...</td>\n",
       "    </tr>\n",
       "  </tbody>\n",
       "</table>\n",
       "</div>"
      ],
      "text/plain": [
       "       Category                                             Resume\n",
       "0  Data Science  Skills * Programming Languages: Python (pandas...\n",
       "1  Data Science  Education Details \\r\\nMay 2013 to May 2017 B.E...\n",
       "2  Data Science  Areas of Interest Deep Learning, Control Syste...\n",
       "3  Data Science  Skills â¢ R â¢ Python â¢ SAP HANA â¢ Table...\n",
       "4  Data Science  Education Details \\r\\n MCA   YMCAUST,  Faridab..."
      ]
     },
     "execution_count": 2,
     "metadata": {},
     "output_type": "execute_result"
    }
   ],
   "source": [
    "df = pd.read_csv('ResumeDataSet.csv')\n",
    "df.head()"
   ]
  },
  {
   "cell_type": "markdown",
   "metadata": {},
   "source": [
    "# # Data Exploration"
   ]
  },
  {
   "cell_type": "markdown",
   "metadata": {},
   "source": [
    "- Checking if the dataset has any null values or not"
   ]
  },
  {
   "cell_type": "code",
   "execution_count": 3,
   "id": "5cff7568",
   "metadata": {},
   "outputs": [
    {
     "data": {
      "text/plain": [
       "Category    0\n",
       "Resume      0\n",
       "dtype: int64"
      ]
     },
     "execution_count": 3,
     "metadata": {},
     "output_type": "execute_result"
    }
   ],
   "source": [
    "df.isnull().sum()"
   ]
  },
  {
   "cell_type": "markdown",
   "metadata": {},
   "source": [
    "- Finding basic information about the dataset\n",
    "    - It has 962 rows and 2 columns\n",
    "    - Both the columns contains data of Object datatype i.e. string"
   ]
  },
  {
   "cell_type": "code",
   "execution_count": 4,
   "id": "f95a6d9d",
   "metadata": {},
   "outputs": [
    {
     "name": "stdout",
     "output_type": "stream",
     "text": [
      "(962, 2)\n",
      "<class 'pandas.core.frame.DataFrame'>\n",
      "RangeIndex: 962 entries, 0 to 961\n",
      "Data columns (total 2 columns):\n",
      " #   Column    Non-Null Count  Dtype \n",
      "---  ------    --------------  ----- \n",
      " 0   Category  962 non-null    object\n",
      " 1   Resume    962 non-null    object\n",
      "dtypes: object(2)\n",
      "memory usage: 15.2+ KB\n",
      "None\n"
     ]
    }
   ],
   "source": [
    "print(df.shape)\n",
    "print(df.info())"
   ]
  },
  {
   "cell_type": "markdown",
   "metadata": {},
   "source": [
    "- Looking at the Unique Categories"
   ]
  },
  {
   "cell_type": "code",
   "execution_count": 5,
   "metadata": {},
   "outputs": [
    {
     "name": "stdout",
     "output_type": "stream",
     "text": [
      "['Data Science' 'HR' 'Advocate' 'Arts' 'Web Designing'\n",
      " 'Mechanical Engineer' 'Sales' 'Health and fitness' 'Civil Engineer'\n",
      " 'Java Developer' 'Business Analyst' 'SAP Developer' 'Automation Testing'\n",
      " 'Electrical Engineering' 'Operations Manager' 'Python Developer'\n",
      " 'DevOps Engineer' 'Network Security Engineer' 'PMO' 'Database' 'Hadoop'\n",
      " 'ETL Developer' 'DotNet Developer' 'Blockchain' 'Testing']\n"
     ]
    }
   ],
   "source": [
    "unique_categories = df['Category'].unique()\n",
    "print(unique_categories)"
   ]
  },
  {
   "cell_type": "markdown",
   "id": "e6bd2eec",
   "metadata": {},
   "source": [
    "- Exploring Categories - getting value counts of each category. "
   ]
  },
  {
   "cell_type": "code",
   "execution_count": 6,
   "id": "7ededc57",
   "metadata": {},
   "outputs": [
    {
     "data": {
      "text/plain": [
       "Java Developer               84\n",
       "Testing                      70\n",
       "DevOps Engineer              55\n",
       "Python Developer             48\n",
       "Web Designing                45\n",
       "HR                           44\n",
       "Hadoop                       42\n",
       "Blockchain                   40\n",
       "ETL Developer                40\n",
       "Operations Manager           40\n",
       "Data Science                 40\n",
       "Sales                        40\n",
       "Mechanical Engineer          40\n",
       "Arts                         36\n",
       "Database                     33\n",
       "Electrical Engineering       30\n",
       "Health and fitness           30\n",
       "PMO                          30\n",
       "Business Analyst             28\n",
       "DotNet Developer             28\n",
       "Automation Testing           26\n",
       "Network Security Engineer    25\n",
       "SAP Developer                24\n",
       "Civil Engineer               24\n",
       "Advocate                     20\n",
       "Name: Category, dtype: int64"
      ]
     },
     "execution_count": 6,
     "metadata": {},
     "output_type": "execute_result"
    }
   ],
   "source": [
    "df['Category'].value_counts()"
   ]
  },
  {
   "cell_type": "markdown",
   "metadata": {},
   "source": [
    "# <b>#Data Visualization</b>\n",
    "#### # Creating a count plot of Categories\n",
    "\n",
    "Creating a bar chart visualization using Plotly to display the count of job categories from a DataFrame (df).\n",
    "~~~\n",
    "plot_data = pd.DataFrame({\n",
    "    'Category': df['Category'].value_counts().index,\n",
    "    'Count': df['Category'].value_counts().values\n",
    "})\n",
    "~~~\n",
    "- This code creates a new DataFrame named plot_data to store the data that will be used for plotting. It is constructed using a Python dictionary with two keys: 'Category' and 'Count'. The 'Category' key contains unique job categories extracted from the 'Category' column, and the 'Count' key contains the corresponding count of each category.\n",
    "\n",
    "~~~\n",
    "fig = px.bar(plot_data, x='Category', y='Count',\n",
    "             color='Category', \n",
    "             labels={'Category': 'Job', 'Count': 'Count'},\n",
    "             color_discrete_sequence=px.colors.qualitative.Set3)\n",
    "~~~\n",
    "- A bar chart is created using Plotly Express (px). The plot_data DataFrame is used as the data source for the plot. The 'Category' column values are plotted on the x-axis, and the 'Count' column values are plotted on the y-axis. \n",
    "\n",
    "- It sets the color of the bars based on the 'Category' column values, which means each job category will have a different color in the chart.\n",
    "\n",
    "- It sets the color palette to be used in the plot. It uses the qualitative color sequence 'Set3' from Plotly's predefined color palettes."
   ]
  },
  {
   "cell_type": "code",
   "execution_count": 7,
   "id": "c185808b",
   "metadata": {},
   "outputs": [
    {
     "data": {
      "application/vnd.plotly.v1+json": {
       "config": {
        "plotlyServerURL": "https://plot.ly"
       },
       "data": [
        {
         "alignmentgroup": "True",
         "hovertemplate": "Job=%{x}<br>Count=%{y}<extra></extra>",
         "legendgroup": "Java Developer",
         "marker": {
          "color": "rgb(141,211,199)",
          "pattern": {
           "shape": ""
          }
         },
         "name": "Java Developer",
         "offsetgroup": "Java Developer",
         "orientation": "v",
         "showlegend": true,
         "textposition": "auto",
         "type": "bar",
         "x": [
          "Java Developer"
         ],
         "xaxis": "x",
         "y": [
          84
         ],
         "yaxis": "y"
        },
        {
         "alignmentgroup": "True",
         "hovertemplate": "Job=%{x}<br>Count=%{y}<extra></extra>",
         "legendgroup": "Testing",
         "marker": {
          "color": "rgb(255,255,179)",
          "pattern": {
           "shape": ""
          }
         },
         "name": "Testing",
         "offsetgroup": "Testing",
         "orientation": "v",
         "showlegend": true,
         "textposition": "auto",
         "type": "bar",
         "x": [
          "Testing"
         ],
         "xaxis": "x",
         "y": [
          70
         ],
         "yaxis": "y"
        },
        {
         "alignmentgroup": "True",
         "hovertemplate": "Job=%{x}<br>Count=%{y}<extra></extra>",
         "legendgroup": "DevOps Engineer",
         "marker": {
          "color": "rgb(190,186,218)",
          "pattern": {
           "shape": ""
          }
         },
         "name": "DevOps Engineer",
         "offsetgroup": "DevOps Engineer",
         "orientation": "v",
         "showlegend": true,
         "textposition": "auto",
         "type": "bar",
         "x": [
          "DevOps Engineer"
         ],
         "xaxis": "x",
         "y": [
          55
         ],
         "yaxis": "y"
        },
        {
         "alignmentgroup": "True",
         "hovertemplate": "Job=%{x}<br>Count=%{y}<extra></extra>",
         "legendgroup": "Python Developer",
         "marker": {
          "color": "rgb(251,128,114)",
          "pattern": {
           "shape": ""
          }
         },
         "name": "Python Developer",
         "offsetgroup": "Python Developer",
         "orientation": "v",
         "showlegend": true,
         "textposition": "auto",
         "type": "bar",
         "x": [
          "Python Developer"
         ],
         "xaxis": "x",
         "y": [
          48
         ],
         "yaxis": "y"
        },
        {
         "alignmentgroup": "True",
         "hovertemplate": "Job=%{x}<br>Count=%{y}<extra></extra>",
         "legendgroup": "Web Designing",
         "marker": {
          "color": "rgb(128,177,211)",
          "pattern": {
           "shape": ""
          }
         },
         "name": "Web Designing",
         "offsetgroup": "Web Designing",
         "orientation": "v",
         "showlegend": true,
         "textposition": "auto",
         "type": "bar",
         "x": [
          "Web Designing"
         ],
         "xaxis": "x",
         "y": [
          45
         ],
         "yaxis": "y"
        },
        {
         "alignmentgroup": "True",
         "hovertemplate": "Job=%{x}<br>Count=%{y}<extra></extra>",
         "legendgroup": "HR",
         "marker": {
          "color": "rgb(253,180,98)",
          "pattern": {
           "shape": ""
          }
         },
         "name": "HR",
         "offsetgroup": "HR",
         "orientation": "v",
         "showlegend": true,
         "textposition": "auto",
         "type": "bar",
         "x": [
          "HR"
         ],
         "xaxis": "x",
         "y": [
          44
         ],
         "yaxis": "y"
        },
        {
         "alignmentgroup": "True",
         "hovertemplate": "Job=%{x}<br>Count=%{y}<extra></extra>",
         "legendgroup": "Hadoop",
         "marker": {
          "color": "rgb(179,222,105)",
          "pattern": {
           "shape": ""
          }
         },
         "name": "Hadoop",
         "offsetgroup": "Hadoop",
         "orientation": "v",
         "showlegend": true,
         "textposition": "auto",
         "type": "bar",
         "x": [
          "Hadoop"
         ],
         "xaxis": "x",
         "y": [
          42
         ],
         "yaxis": "y"
        },
        {
         "alignmentgroup": "True",
         "hovertemplate": "Job=%{x}<br>Count=%{y}<extra></extra>",
         "legendgroup": "Blockchain",
         "marker": {
          "color": "rgb(252,205,229)",
          "pattern": {
           "shape": ""
          }
         },
         "name": "Blockchain",
         "offsetgroup": "Blockchain",
         "orientation": "v",
         "showlegend": true,
         "textposition": "auto",
         "type": "bar",
         "x": [
          "Blockchain"
         ],
         "xaxis": "x",
         "y": [
          40
         ],
         "yaxis": "y"
        },
        {
         "alignmentgroup": "True",
         "hovertemplate": "Job=%{x}<br>Count=%{y}<extra></extra>",
         "legendgroup": "ETL Developer",
         "marker": {
          "color": "rgb(217,217,217)",
          "pattern": {
           "shape": ""
          }
         },
         "name": "ETL Developer",
         "offsetgroup": "ETL Developer",
         "orientation": "v",
         "showlegend": true,
         "textposition": "auto",
         "type": "bar",
         "x": [
          "ETL Developer"
         ],
         "xaxis": "x",
         "y": [
          40
         ],
         "yaxis": "y"
        },
        {
         "alignmentgroup": "True",
         "hovertemplate": "Job=%{x}<br>Count=%{y}<extra></extra>",
         "legendgroup": "Operations Manager",
         "marker": {
          "color": "rgb(188,128,189)",
          "pattern": {
           "shape": ""
          }
         },
         "name": "Operations Manager",
         "offsetgroup": "Operations Manager",
         "orientation": "v",
         "showlegend": true,
         "textposition": "auto",
         "type": "bar",
         "x": [
          "Operations Manager"
         ],
         "xaxis": "x",
         "y": [
          40
         ],
         "yaxis": "y"
        },
        {
         "alignmentgroup": "True",
         "hovertemplate": "Job=%{x}<br>Count=%{y}<extra></extra>",
         "legendgroup": "Data Science",
         "marker": {
          "color": "rgb(204,235,197)",
          "pattern": {
           "shape": ""
          }
         },
         "name": "Data Science",
         "offsetgroup": "Data Science",
         "orientation": "v",
         "showlegend": true,
         "textposition": "auto",
         "type": "bar",
         "x": [
          "Data Science"
         ],
         "xaxis": "x",
         "y": [
          40
         ],
         "yaxis": "y"
        },
        {
         "alignmentgroup": "True",
         "hovertemplate": "Job=%{x}<br>Count=%{y}<extra></extra>",
         "legendgroup": "Sales",
         "marker": {
          "color": "rgb(255,237,111)",
          "pattern": {
           "shape": ""
          }
         },
         "name": "Sales",
         "offsetgroup": "Sales",
         "orientation": "v",
         "showlegend": true,
         "textposition": "auto",
         "type": "bar",
         "x": [
          "Sales"
         ],
         "xaxis": "x",
         "y": [
          40
         ],
         "yaxis": "y"
        },
        {
         "alignmentgroup": "True",
         "hovertemplate": "Job=%{x}<br>Count=%{y}<extra></extra>",
         "legendgroup": "Mechanical Engineer",
         "marker": {
          "color": "rgb(141,211,199)",
          "pattern": {
           "shape": ""
          }
         },
         "name": "Mechanical Engineer",
         "offsetgroup": "Mechanical Engineer",
         "orientation": "v",
         "showlegend": true,
         "textposition": "auto",
         "type": "bar",
         "x": [
          "Mechanical Engineer"
         ],
         "xaxis": "x",
         "y": [
          40
         ],
         "yaxis": "y"
        },
        {
         "alignmentgroup": "True",
         "hovertemplate": "Job=%{x}<br>Count=%{y}<extra></extra>",
         "legendgroup": "Arts",
         "marker": {
          "color": "rgb(255,255,179)",
          "pattern": {
           "shape": ""
          }
         },
         "name": "Arts",
         "offsetgroup": "Arts",
         "orientation": "v",
         "showlegend": true,
         "textposition": "auto",
         "type": "bar",
         "x": [
          "Arts"
         ],
         "xaxis": "x",
         "y": [
          36
         ],
         "yaxis": "y"
        },
        {
         "alignmentgroup": "True",
         "hovertemplate": "Job=%{x}<br>Count=%{y}<extra></extra>",
         "legendgroup": "Database",
         "marker": {
          "color": "rgb(190,186,218)",
          "pattern": {
           "shape": ""
          }
         },
         "name": "Database",
         "offsetgroup": "Database",
         "orientation": "v",
         "showlegend": true,
         "textposition": "auto",
         "type": "bar",
         "x": [
          "Database"
         ],
         "xaxis": "x",
         "y": [
          33
         ],
         "yaxis": "y"
        },
        {
         "alignmentgroup": "True",
         "hovertemplate": "Job=%{x}<br>Count=%{y}<extra></extra>",
         "legendgroup": "Electrical Engineering",
         "marker": {
          "color": "rgb(251,128,114)",
          "pattern": {
           "shape": ""
          }
         },
         "name": "Electrical Engineering",
         "offsetgroup": "Electrical Engineering",
         "orientation": "v",
         "showlegend": true,
         "textposition": "auto",
         "type": "bar",
         "x": [
          "Electrical Engineering"
         ],
         "xaxis": "x",
         "y": [
          30
         ],
         "yaxis": "y"
        },
        {
         "alignmentgroup": "True",
         "hovertemplate": "Job=%{x}<br>Count=%{y}<extra></extra>",
         "legendgroup": "Health and fitness",
         "marker": {
          "color": "rgb(128,177,211)",
          "pattern": {
           "shape": ""
          }
         },
         "name": "Health and fitness",
         "offsetgroup": "Health and fitness",
         "orientation": "v",
         "showlegend": true,
         "textposition": "auto",
         "type": "bar",
         "x": [
          "Health and fitness"
         ],
         "xaxis": "x",
         "y": [
          30
         ],
         "yaxis": "y"
        },
        {
         "alignmentgroup": "True",
         "hovertemplate": "Job=%{x}<br>Count=%{y}<extra></extra>",
         "legendgroup": "PMO",
         "marker": {
          "color": "rgb(253,180,98)",
          "pattern": {
           "shape": ""
          }
         },
         "name": "PMO",
         "offsetgroup": "PMO",
         "orientation": "v",
         "showlegend": true,
         "textposition": "auto",
         "type": "bar",
         "x": [
          "PMO"
         ],
         "xaxis": "x",
         "y": [
          30
         ],
         "yaxis": "y"
        },
        {
         "alignmentgroup": "True",
         "hovertemplate": "Job=%{x}<br>Count=%{y}<extra></extra>",
         "legendgroup": "Business Analyst",
         "marker": {
          "color": "rgb(179,222,105)",
          "pattern": {
           "shape": ""
          }
         },
         "name": "Business Analyst",
         "offsetgroup": "Business Analyst",
         "orientation": "v",
         "showlegend": true,
         "textposition": "auto",
         "type": "bar",
         "x": [
          "Business Analyst"
         ],
         "xaxis": "x",
         "y": [
          28
         ],
         "yaxis": "y"
        },
        {
         "alignmentgroup": "True",
         "hovertemplate": "Job=%{x}<br>Count=%{y}<extra></extra>",
         "legendgroup": "DotNet Developer",
         "marker": {
          "color": "rgb(252,205,229)",
          "pattern": {
           "shape": ""
          }
         },
         "name": "DotNet Developer",
         "offsetgroup": "DotNet Developer",
         "orientation": "v",
         "showlegend": true,
         "textposition": "auto",
         "type": "bar",
         "x": [
          "DotNet Developer"
         ],
         "xaxis": "x",
         "y": [
          28
         ],
         "yaxis": "y"
        },
        {
         "alignmentgroup": "True",
         "hovertemplate": "Job=%{x}<br>Count=%{y}<extra></extra>",
         "legendgroup": "Automation Testing",
         "marker": {
          "color": "rgb(217,217,217)",
          "pattern": {
           "shape": ""
          }
         },
         "name": "Automation Testing",
         "offsetgroup": "Automation Testing",
         "orientation": "v",
         "showlegend": true,
         "textposition": "auto",
         "type": "bar",
         "x": [
          "Automation Testing"
         ],
         "xaxis": "x",
         "y": [
          26
         ],
         "yaxis": "y"
        },
        {
         "alignmentgroup": "True",
         "hovertemplate": "Job=%{x}<br>Count=%{y}<extra></extra>",
         "legendgroup": "Network Security Engineer",
         "marker": {
          "color": "rgb(188,128,189)",
          "pattern": {
           "shape": ""
          }
         },
         "name": "Network Security Engineer",
         "offsetgroup": "Network Security Engineer",
         "orientation": "v",
         "showlegend": true,
         "textposition": "auto",
         "type": "bar",
         "x": [
          "Network Security Engineer"
         ],
         "xaxis": "x",
         "y": [
          25
         ],
         "yaxis": "y"
        },
        {
         "alignmentgroup": "True",
         "hovertemplate": "Job=%{x}<br>Count=%{y}<extra></extra>",
         "legendgroup": "SAP Developer",
         "marker": {
          "color": "rgb(204,235,197)",
          "pattern": {
           "shape": ""
          }
         },
         "name": "SAP Developer",
         "offsetgroup": "SAP Developer",
         "orientation": "v",
         "showlegend": true,
         "textposition": "auto",
         "type": "bar",
         "x": [
          "SAP Developer"
         ],
         "xaxis": "x",
         "y": [
          24
         ],
         "yaxis": "y"
        },
        {
         "alignmentgroup": "True",
         "hovertemplate": "Job=%{x}<br>Count=%{y}<extra></extra>",
         "legendgroup": "Civil Engineer",
         "marker": {
          "color": "rgb(255,237,111)",
          "pattern": {
           "shape": ""
          }
         },
         "name": "Civil Engineer",
         "offsetgroup": "Civil Engineer",
         "orientation": "v",
         "showlegend": true,
         "textposition": "auto",
         "type": "bar",
         "x": [
          "Civil Engineer"
         ],
         "xaxis": "x",
         "y": [
          24
         ],
         "yaxis": "y"
        },
        {
         "alignmentgroup": "True",
         "hovertemplate": "Job=%{x}<br>Count=%{y}<extra></extra>",
         "legendgroup": "Advocate",
         "marker": {
          "color": "rgb(141,211,199)",
          "pattern": {
           "shape": ""
          }
         },
         "name": "Advocate",
         "offsetgroup": "Advocate",
         "orientation": "v",
         "showlegend": true,
         "textposition": "auto",
         "type": "bar",
         "x": [
          "Advocate"
         ],
         "xaxis": "x",
         "y": [
          20
         ],
         "yaxis": "y"
        }
       ],
       "layout": {
        "barmode": "relative",
        "font": {
         "family": "Times New Roman",
         "size": 12
        },
        "legend": {
         "title": {
          "text": "Job Categories"
         },
         "tracegroupgap": 0
        },
        "margin": {
         "t": 60
        },
        "plot_bgcolor": "white",
        "showlegend": true,
        "template": {
         "data": {
          "bar": [
           {
            "error_x": {
             "color": "#2a3f5f"
            },
            "error_y": {
             "color": "#2a3f5f"
            },
            "marker": {
             "line": {
              "color": "#E5ECF6",
              "width": 0.5
             },
             "pattern": {
              "fillmode": "overlay",
              "size": 10,
              "solidity": 0.2
             }
            },
            "type": "bar"
           }
          ],
          "barpolar": [
           {
            "marker": {
             "line": {
              "color": "#E5ECF6",
              "width": 0.5
             },
             "pattern": {
              "fillmode": "overlay",
              "size": 10,
              "solidity": 0.2
             }
            },
            "type": "barpolar"
           }
          ],
          "carpet": [
           {
            "aaxis": {
             "endlinecolor": "#2a3f5f",
             "gridcolor": "white",
             "linecolor": "white",
             "minorgridcolor": "white",
             "startlinecolor": "#2a3f5f"
            },
            "baxis": {
             "endlinecolor": "#2a3f5f",
             "gridcolor": "white",
             "linecolor": "white",
             "minorgridcolor": "white",
             "startlinecolor": "#2a3f5f"
            },
            "type": "carpet"
           }
          ],
          "choropleth": [
           {
            "colorbar": {
             "outlinewidth": 0,
             "ticks": ""
            },
            "type": "choropleth"
           }
          ],
          "contour": [
           {
            "colorbar": {
             "outlinewidth": 0,
             "ticks": ""
            },
            "colorscale": [
             [
              0,
              "#0d0887"
             ],
             [
              0.1111111111111111,
              "#46039f"
             ],
             [
              0.2222222222222222,
              "#7201a8"
             ],
             [
              0.3333333333333333,
              "#9c179e"
             ],
             [
              0.4444444444444444,
              "#bd3786"
             ],
             [
              0.5555555555555556,
              "#d8576b"
             ],
             [
              0.6666666666666666,
              "#ed7953"
             ],
             [
              0.7777777777777778,
              "#fb9f3a"
             ],
             [
              0.8888888888888888,
              "#fdca26"
             ],
             [
              1,
              "#f0f921"
             ]
            ],
            "type": "contour"
           }
          ],
          "contourcarpet": [
           {
            "colorbar": {
             "outlinewidth": 0,
             "ticks": ""
            },
            "type": "contourcarpet"
           }
          ],
          "heatmap": [
           {
            "colorbar": {
             "outlinewidth": 0,
             "ticks": ""
            },
            "colorscale": [
             [
              0,
              "#0d0887"
             ],
             [
              0.1111111111111111,
              "#46039f"
             ],
             [
              0.2222222222222222,
              "#7201a8"
             ],
             [
              0.3333333333333333,
              "#9c179e"
             ],
             [
              0.4444444444444444,
              "#bd3786"
             ],
             [
              0.5555555555555556,
              "#d8576b"
             ],
             [
              0.6666666666666666,
              "#ed7953"
             ],
             [
              0.7777777777777778,
              "#fb9f3a"
             ],
             [
              0.8888888888888888,
              "#fdca26"
             ],
             [
              1,
              "#f0f921"
             ]
            ],
            "type": "heatmap"
           }
          ],
          "heatmapgl": [
           {
            "colorbar": {
             "outlinewidth": 0,
             "ticks": ""
            },
            "colorscale": [
             [
              0,
              "#0d0887"
             ],
             [
              0.1111111111111111,
              "#46039f"
             ],
             [
              0.2222222222222222,
              "#7201a8"
             ],
             [
              0.3333333333333333,
              "#9c179e"
             ],
             [
              0.4444444444444444,
              "#bd3786"
             ],
             [
              0.5555555555555556,
              "#d8576b"
             ],
             [
              0.6666666666666666,
              "#ed7953"
             ],
             [
              0.7777777777777778,
              "#fb9f3a"
             ],
             [
              0.8888888888888888,
              "#fdca26"
             ],
             [
              1,
              "#f0f921"
             ]
            ],
            "type": "heatmapgl"
           }
          ],
          "histogram": [
           {
            "marker": {
             "pattern": {
              "fillmode": "overlay",
              "size": 10,
              "solidity": 0.2
             }
            },
            "type": "histogram"
           }
          ],
          "histogram2d": [
           {
            "colorbar": {
             "outlinewidth": 0,
             "ticks": ""
            },
            "colorscale": [
             [
              0,
              "#0d0887"
             ],
             [
              0.1111111111111111,
              "#46039f"
             ],
             [
              0.2222222222222222,
              "#7201a8"
             ],
             [
              0.3333333333333333,
              "#9c179e"
             ],
             [
              0.4444444444444444,
              "#bd3786"
             ],
             [
              0.5555555555555556,
              "#d8576b"
             ],
             [
              0.6666666666666666,
              "#ed7953"
             ],
             [
              0.7777777777777778,
              "#fb9f3a"
             ],
             [
              0.8888888888888888,
              "#fdca26"
             ],
             [
              1,
              "#f0f921"
             ]
            ],
            "type": "histogram2d"
           }
          ],
          "histogram2dcontour": [
           {
            "colorbar": {
             "outlinewidth": 0,
             "ticks": ""
            },
            "colorscale": [
             [
              0,
              "#0d0887"
             ],
             [
              0.1111111111111111,
              "#46039f"
             ],
             [
              0.2222222222222222,
              "#7201a8"
             ],
             [
              0.3333333333333333,
              "#9c179e"
             ],
             [
              0.4444444444444444,
              "#bd3786"
             ],
             [
              0.5555555555555556,
              "#d8576b"
             ],
             [
              0.6666666666666666,
              "#ed7953"
             ],
             [
              0.7777777777777778,
              "#fb9f3a"
             ],
             [
              0.8888888888888888,
              "#fdca26"
             ],
             [
              1,
              "#f0f921"
             ]
            ],
            "type": "histogram2dcontour"
           }
          ],
          "mesh3d": [
           {
            "colorbar": {
             "outlinewidth": 0,
             "ticks": ""
            },
            "type": "mesh3d"
           }
          ],
          "parcoords": [
           {
            "line": {
             "colorbar": {
              "outlinewidth": 0,
              "ticks": ""
             }
            },
            "type": "parcoords"
           }
          ],
          "pie": [
           {
            "automargin": true,
            "type": "pie"
           }
          ],
          "scatter": [
           {
            "fillpattern": {
             "fillmode": "overlay",
             "size": 10,
             "solidity": 0.2
            },
            "type": "scatter"
           }
          ],
          "scatter3d": [
           {
            "line": {
             "colorbar": {
              "outlinewidth": 0,
              "ticks": ""
             }
            },
            "marker": {
             "colorbar": {
              "outlinewidth": 0,
              "ticks": ""
             }
            },
            "type": "scatter3d"
           }
          ],
          "scattercarpet": [
           {
            "marker": {
             "colorbar": {
              "outlinewidth": 0,
              "ticks": ""
             }
            },
            "type": "scattercarpet"
           }
          ],
          "scattergeo": [
           {
            "marker": {
             "colorbar": {
              "outlinewidth": 0,
              "ticks": ""
             }
            },
            "type": "scattergeo"
           }
          ],
          "scattergl": [
           {
            "marker": {
             "colorbar": {
              "outlinewidth": 0,
              "ticks": ""
             }
            },
            "type": "scattergl"
           }
          ],
          "scattermapbox": [
           {
            "marker": {
             "colorbar": {
              "outlinewidth": 0,
              "ticks": ""
             }
            },
            "type": "scattermapbox"
           }
          ],
          "scatterpolar": [
           {
            "marker": {
             "colorbar": {
              "outlinewidth": 0,
              "ticks": ""
             }
            },
            "type": "scatterpolar"
           }
          ],
          "scatterpolargl": [
           {
            "marker": {
             "colorbar": {
              "outlinewidth": 0,
              "ticks": ""
             }
            },
            "type": "scatterpolargl"
           }
          ],
          "scatterternary": [
           {
            "marker": {
             "colorbar": {
              "outlinewidth": 0,
              "ticks": ""
             }
            },
            "type": "scatterternary"
           }
          ],
          "surface": [
           {
            "colorbar": {
             "outlinewidth": 0,
             "ticks": ""
            },
            "colorscale": [
             [
              0,
              "#0d0887"
             ],
             [
              0.1111111111111111,
              "#46039f"
             ],
             [
              0.2222222222222222,
              "#7201a8"
             ],
             [
              0.3333333333333333,
              "#9c179e"
             ],
             [
              0.4444444444444444,
              "#bd3786"
             ],
             [
              0.5555555555555556,
              "#d8576b"
             ],
             [
              0.6666666666666666,
              "#ed7953"
             ],
             [
              0.7777777777777778,
              "#fb9f3a"
             ],
             [
              0.8888888888888888,
              "#fdca26"
             ],
             [
              1,
              "#f0f921"
             ]
            ],
            "type": "surface"
           }
          ],
          "table": [
           {
            "cells": {
             "fill": {
              "color": "#EBF0F8"
             },
             "line": {
              "color": "white"
             }
            },
            "header": {
             "fill": {
              "color": "#C8D4E3"
             },
             "line": {
              "color": "white"
             }
            },
            "type": "table"
           }
          ]
         },
         "layout": {
          "annotationdefaults": {
           "arrowcolor": "#2a3f5f",
           "arrowhead": 0,
           "arrowwidth": 1
          },
          "autotypenumbers": "strict",
          "coloraxis": {
           "colorbar": {
            "outlinewidth": 0,
            "ticks": ""
           }
          },
          "colorscale": {
           "diverging": [
            [
             0,
             "#8e0152"
            ],
            [
             0.1,
             "#c51b7d"
            ],
            [
             0.2,
             "#de77ae"
            ],
            [
             0.3,
             "#f1b6da"
            ],
            [
             0.4,
             "#fde0ef"
            ],
            [
             0.5,
             "#f7f7f7"
            ],
            [
             0.6,
             "#e6f5d0"
            ],
            [
             0.7,
             "#b8e186"
            ],
            [
             0.8,
             "#7fbc41"
            ],
            [
             0.9,
             "#4d9221"
            ],
            [
             1,
             "#276419"
            ]
           ],
           "sequential": [
            [
             0,
             "#0d0887"
            ],
            [
             0.1111111111111111,
             "#46039f"
            ],
            [
             0.2222222222222222,
             "#7201a8"
            ],
            [
             0.3333333333333333,
             "#9c179e"
            ],
            [
             0.4444444444444444,
             "#bd3786"
            ],
            [
             0.5555555555555556,
             "#d8576b"
            ],
            [
             0.6666666666666666,
             "#ed7953"
            ],
            [
             0.7777777777777778,
             "#fb9f3a"
            ],
            [
             0.8888888888888888,
             "#fdca26"
            ],
            [
             1,
             "#f0f921"
            ]
           ],
           "sequentialminus": [
            [
             0,
             "#0d0887"
            ],
            [
             0.1111111111111111,
             "#46039f"
            ],
            [
             0.2222222222222222,
             "#7201a8"
            ],
            [
             0.3333333333333333,
             "#9c179e"
            ],
            [
             0.4444444444444444,
             "#bd3786"
            ],
            [
             0.5555555555555556,
             "#d8576b"
            ],
            [
             0.6666666666666666,
             "#ed7953"
            ],
            [
             0.7777777777777778,
             "#fb9f3a"
            ],
            [
             0.8888888888888888,
             "#fdca26"
            ],
            [
             1,
             "#f0f921"
            ]
           ]
          },
          "colorway": [
           "#636efa",
           "#EF553B",
           "#00cc96",
           "#ab63fa",
           "#FFA15A",
           "#19d3f3",
           "#FF6692",
           "#B6E880",
           "#FF97FF",
           "#FECB52"
          ],
          "font": {
           "color": "#2a3f5f"
          },
          "geo": {
           "bgcolor": "white",
           "lakecolor": "white",
           "landcolor": "#E5ECF6",
           "showlakes": true,
           "showland": true,
           "subunitcolor": "white"
          },
          "hoverlabel": {
           "align": "left"
          },
          "hovermode": "closest",
          "mapbox": {
           "style": "light"
          },
          "paper_bgcolor": "white",
          "plot_bgcolor": "#E5ECF6",
          "polar": {
           "angularaxis": {
            "gridcolor": "white",
            "linecolor": "white",
            "ticks": ""
           },
           "bgcolor": "#E5ECF6",
           "radialaxis": {
            "gridcolor": "white",
            "linecolor": "white",
            "ticks": ""
           }
          },
          "scene": {
           "xaxis": {
            "backgroundcolor": "#E5ECF6",
            "gridcolor": "white",
            "gridwidth": 2,
            "linecolor": "white",
            "showbackground": true,
            "ticks": "",
            "zerolinecolor": "white"
           },
           "yaxis": {
            "backgroundcolor": "#E5ECF6",
            "gridcolor": "white",
            "gridwidth": 2,
            "linecolor": "white",
            "showbackground": true,
            "ticks": "",
            "zerolinecolor": "white"
           },
           "zaxis": {
            "backgroundcolor": "#E5ECF6",
            "gridcolor": "white",
            "gridwidth": 2,
            "linecolor": "white",
            "showbackground": true,
            "ticks": "",
            "zerolinecolor": "white"
           }
          },
          "shapedefaults": {
           "line": {
            "color": "#2a3f5f"
           }
          },
          "ternary": {
           "aaxis": {
            "gridcolor": "white",
            "linecolor": "white",
            "ticks": ""
           },
           "baxis": {
            "gridcolor": "white",
            "linecolor": "white",
            "ticks": ""
           },
           "bgcolor": "#E5ECF6",
           "caxis": {
            "gridcolor": "white",
            "linecolor": "white",
            "ticks": ""
           }
          },
          "title": {
           "x": 0.05
          },
          "xaxis": {
           "automargin": true,
           "gridcolor": "white",
           "linecolor": "white",
           "ticks": "",
           "title": {
            "standoff": 15
           },
           "zerolinecolor": "white",
           "zerolinewidth": 2
          },
          "yaxis": {
           "automargin": true,
           "gridcolor": "white",
           "linecolor": "white",
           "ticks": "",
           "title": {
            "standoff": 15
           },
           "zerolinecolor": "white",
           "zerolinewidth": 2
          }
         }
        },
        "title": {
         "text": "Count of a particular Job"
        },
        "xaxis": {
         "anchor": "y",
         "categoryarray": [
          "Java Developer",
          "Testing",
          "DevOps Engineer",
          "Python Developer",
          "Web Designing",
          "HR",
          "Hadoop",
          "Blockchain",
          "ETL Developer",
          "Operations Manager",
          "Data Science",
          "Sales",
          "Mechanical Engineer",
          "Arts",
          "Database",
          "Electrical Engineering",
          "Health and fitness",
          "PMO",
          "Business Analyst",
          "DotNet Developer",
          "Automation Testing",
          "Network Security Engineer",
          "SAP Developer",
          "Civil Engineer",
          "Advocate"
         ],
         "categoryorder": "array",
         "domain": [
          0,
          1
         ],
         "tickangle": -30,
         "title": {
          "text": "Job Type"
         }
        },
        "yaxis": {
         "anchor": "x",
         "domain": [
          0,
          1
         ],
         "title": {
          "text": "Count"
         }
        }
       }
      }
     },
     "metadata": {},
     "output_type": "display_data"
    }
   ],
   "source": [
    "# Creating the bar plot\n",
    "import plotly.express as px\n",
    "import plotly.graph_objects as go\n",
    "# Create a new DataFrame for plotting\n",
    "plot_data = pd.DataFrame({\n",
    "    'Category': df['Category'].value_counts().index,\n",
    "    'Count': df['Category'].value_counts().values\n",
    "})\n",
    "plot_data.head()\n",
    "fig = px.bar(plot_data, x='Category', y='Count',\n",
    "             color='Category', \n",
    "             labels={'Category': 'Job', 'Count': 'Count'},\n",
    "             color_discrete_sequence=px.colors.qualitative.Set3)\n",
    "\n",
    "fig.update_layout(\n",
    "    title='Count of a particular Job',\n",
    "    xaxis_title='Job Type',\n",
    "    yaxis_title='Count',\n",
    "    legend_title='Job Categories',\n",
    "    showlegend=True,\n",
    "    xaxis=dict(tickangle=-30),\n",
    "    font=dict(family='Times New Roman', size=12),\n",
    "    plot_bgcolor='white'\n",
    ")\n",
    "\n",
    "fig.show()"
   ]
  },
  {
   "cell_type": "markdown",
   "metadata": {},
   "source": [
    "#### <b>#Pie plot of Job Category</b>\n",
    "~~~\n",
    "fig = px.pie(plot_data, values='Count', names='Category',\n",
    "             title='Pie plot of Job Category',\n",
    "             color_discrete_sequence=px.colors.sequential.RdBu,\n",
    "             hole=0.4,\n",
    "             labels={'Category': 'Categories', 'Count': 'Count'},\n",
    "             opacity=0.8,\n",
    "             )\n",
    "~~~\n",
    "- Creates a pie chart using Plotly Express (px). The plot_data DataFrame serves as the data source for the pie chart. It specifies that the 'Count' column contains the values to be used for the size of the pie slices, and the 'Category' column contains the names for each slice.\n"
   ]
  },
  {
   "cell_type": "code",
   "execution_count": 8,
   "metadata": {},
   "outputs": [
    {
     "data": {
      "application/vnd.plotly.v1+json": {
       "config": {
        "plotlyServerURL": "https://plot.ly"
       },
       "data": [
        {
         "domain": {
          "x": [
           0,
           1
          ],
          "y": [
           0,
           1
          ]
         },
         "hole": 0.4,
         "hovertemplate": "Categories=%{label}<br>Count=%{value}<extra></extra>",
         "labels": [
          "Java Developer",
          "Testing",
          "DevOps Engineer",
          "Python Developer",
          "Web Designing",
          "HR",
          "Hadoop",
          "Blockchain",
          "ETL Developer",
          "Operations Manager",
          "Data Science",
          "Sales",
          "Mechanical Engineer",
          "Arts",
          "Database",
          "Electrical Engineering",
          "Health and fitness",
          "PMO",
          "Business Analyst",
          "DotNet Developer",
          "Automation Testing",
          "Network Security Engineer",
          "SAP Developer",
          "Civil Engineer",
          "Advocate"
         ],
         "legendgroup": "",
         "name": "",
         "opacity": 0.8,
         "showlegend": true,
         "type": "pie",
         "values": [
          84,
          70,
          55,
          48,
          45,
          44,
          42,
          40,
          40,
          40,
          40,
          40,
          40,
          36,
          33,
          30,
          30,
          30,
          28,
          28,
          26,
          25,
          24,
          24,
          20
         ]
        }
       ],
       "layout": {
        "font": {
         "color": "black",
         "family": "Times New Roman",
         "size": 16
        },
        "legend": {
         "title": {
          "text": "Categories"
         },
         "tracegroupgap": 0
        },
        "margin": {
         "b": 50,
         "l": 50,
         "r": 50,
         "t": 50
        },
        "piecolorway": [
         "rgb(103,0,31)",
         "rgb(178,24,43)",
         "rgb(214,96,77)",
         "rgb(244,165,130)",
         "rgb(253,219,199)",
         "rgb(247,247,247)",
         "rgb(209,229,240)",
         "rgb(146,197,222)",
         "rgb(67,147,195)",
         "rgb(33,102,172)",
         "rgb(5,48,97)"
        ],
        "plot_bgcolor": "white",
        "template": {
         "data": {
          "bar": [
           {
            "error_x": {
             "color": "#2a3f5f"
            },
            "error_y": {
             "color": "#2a3f5f"
            },
            "marker": {
             "line": {
              "color": "#E5ECF6",
              "width": 0.5
             },
             "pattern": {
              "fillmode": "overlay",
              "size": 10,
              "solidity": 0.2
             }
            },
            "type": "bar"
           }
          ],
          "barpolar": [
           {
            "marker": {
             "line": {
              "color": "#E5ECF6",
              "width": 0.5
             },
             "pattern": {
              "fillmode": "overlay",
              "size": 10,
              "solidity": 0.2
             }
            },
            "type": "barpolar"
           }
          ],
          "carpet": [
           {
            "aaxis": {
             "endlinecolor": "#2a3f5f",
             "gridcolor": "white",
             "linecolor": "white",
             "minorgridcolor": "white",
             "startlinecolor": "#2a3f5f"
            },
            "baxis": {
             "endlinecolor": "#2a3f5f",
             "gridcolor": "white",
             "linecolor": "white",
             "minorgridcolor": "white",
             "startlinecolor": "#2a3f5f"
            },
            "type": "carpet"
           }
          ],
          "choropleth": [
           {
            "colorbar": {
             "outlinewidth": 0,
             "ticks": ""
            },
            "type": "choropleth"
           }
          ],
          "contour": [
           {
            "colorbar": {
             "outlinewidth": 0,
             "ticks": ""
            },
            "colorscale": [
             [
              0,
              "#0d0887"
             ],
             [
              0.1111111111111111,
              "#46039f"
             ],
             [
              0.2222222222222222,
              "#7201a8"
             ],
             [
              0.3333333333333333,
              "#9c179e"
             ],
             [
              0.4444444444444444,
              "#bd3786"
             ],
             [
              0.5555555555555556,
              "#d8576b"
             ],
             [
              0.6666666666666666,
              "#ed7953"
             ],
             [
              0.7777777777777778,
              "#fb9f3a"
             ],
             [
              0.8888888888888888,
              "#fdca26"
             ],
             [
              1,
              "#f0f921"
             ]
            ],
            "type": "contour"
           }
          ],
          "contourcarpet": [
           {
            "colorbar": {
             "outlinewidth": 0,
             "ticks": ""
            },
            "type": "contourcarpet"
           }
          ],
          "heatmap": [
           {
            "colorbar": {
             "outlinewidth": 0,
             "ticks": ""
            },
            "colorscale": [
             [
              0,
              "#0d0887"
             ],
             [
              0.1111111111111111,
              "#46039f"
             ],
             [
              0.2222222222222222,
              "#7201a8"
             ],
             [
              0.3333333333333333,
              "#9c179e"
             ],
             [
              0.4444444444444444,
              "#bd3786"
             ],
             [
              0.5555555555555556,
              "#d8576b"
             ],
             [
              0.6666666666666666,
              "#ed7953"
             ],
             [
              0.7777777777777778,
              "#fb9f3a"
             ],
             [
              0.8888888888888888,
              "#fdca26"
             ],
             [
              1,
              "#f0f921"
             ]
            ],
            "type": "heatmap"
           }
          ],
          "heatmapgl": [
           {
            "colorbar": {
             "outlinewidth": 0,
             "ticks": ""
            },
            "colorscale": [
             [
              0,
              "#0d0887"
             ],
             [
              0.1111111111111111,
              "#46039f"
             ],
             [
              0.2222222222222222,
              "#7201a8"
             ],
             [
              0.3333333333333333,
              "#9c179e"
             ],
             [
              0.4444444444444444,
              "#bd3786"
             ],
             [
              0.5555555555555556,
              "#d8576b"
             ],
             [
              0.6666666666666666,
              "#ed7953"
             ],
             [
              0.7777777777777778,
              "#fb9f3a"
             ],
             [
              0.8888888888888888,
              "#fdca26"
             ],
             [
              1,
              "#f0f921"
             ]
            ],
            "type": "heatmapgl"
           }
          ],
          "histogram": [
           {
            "marker": {
             "pattern": {
              "fillmode": "overlay",
              "size": 10,
              "solidity": 0.2
             }
            },
            "type": "histogram"
           }
          ],
          "histogram2d": [
           {
            "colorbar": {
             "outlinewidth": 0,
             "ticks": ""
            },
            "colorscale": [
             [
              0,
              "#0d0887"
             ],
             [
              0.1111111111111111,
              "#46039f"
             ],
             [
              0.2222222222222222,
              "#7201a8"
             ],
             [
              0.3333333333333333,
              "#9c179e"
             ],
             [
              0.4444444444444444,
              "#bd3786"
             ],
             [
              0.5555555555555556,
              "#d8576b"
             ],
             [
              0.6666666666666666,
              "#ed7953"
             ],
             [
              0.7777777777777778,
              "#fb9f3a"
             ],
             [
              0.8888888888888888,
              "#fdca26"
             ],
             [
              1,
              "#f0f921"
             ]
            ],
            "type": "histogram2d"
           }
          ],
          "histogram2dcontour": [
           {
            "colorbar": {
             "outlinewidth": 0,
             "ticks": ""
            },
            "colorscale": [
             [
              0,
              "#0d0887"
             ],
             [
              0.1111111111111111,
              "#46039f"
             ],
             [
              0.2222222222222222,
              "#7201a8"
             ],
             [
              0.3333333333333333,
              "#9c179e"
             ],
             [
              0.4444444444444444,
              "#bd3786"
             ],
             [
              0.5555555555555556,
              "#d8576b"
             ],
             [
              0.6666666666666666,
              "#ed7953"
             ],
             [
              0.7777777777777778,
              "#fb9f3a"
             ],
             [
              0.8888888888888888,
              "#fdca26"
             ],
             [
              1,
              "#f0f921"
             ]
            ],
            "type": "histogram2dcontour"
           }
          ],
          "mesh3d": [
           {
            "colorbar": {
             "outlinewidth": 0,
             "ticks": ""
            },
            "type": "mesh3d"
           }
          ],
          "parcoords": [
           {
            "line": {
             "colorbar": {
              "outlinewidth": 0,
              "ticks": ""
             }
            },
            "type": "parcoords"
           }
          ],
          "pie": [
           {
            "automargin": true,
            "type": "pie"
           }
          ],
          "scatter": [
           {
            "fillpattern": {
             "fillmode": "overlay",
             "size": 10,
             "solidity": 0.2
            },
            "type": "scatter"
           }
          ],
          "scatter3d": [
           {
            "line": {
             "colorbar": {
              "outlinewidth": 0,
              "ticks": ""
             }
            },
            "marker": {
             "colorbar": {
              "outlinewidth": 0,
              "ticks": ""
             }
            },
            "type": "scatter3d"
           }
          ],
          "scattercarpet": [
           {
            "marker": {
             "colorbar": {
              "outlinewidth": 0,
              "ticks": ""
             }
            },
            "type": "scattercarpet"
           }
          ],
          "scattergeo": [
           {
            "marker": {
             "colorbar": {
              "outlinewidth": 0,
              "ticks": ""
             }
            },
            "type": "scattergeo"
           }
          ],
          "scattergl": [
           {
            "marker": {
             "colorbar": {
              "outlinewidth": 0,
              "ticks": ""
             }
            },
            "type": "scattergl"
           }
          ],
          "scattermapbox": [
           {
            "marker": {
             "colorbar": {
              "outlinewidth": 0,
              "ticks": ""
             }
            },
            "type": "scattermapbox"
           }
          ],
          "scatterpolar": [
           {
            "marker": {
             "colorbar": {
              "outlinewidth": 0,
              "ticks": ""
             }
            },
            "type": "scatterpolar"
           }
          ],
          "scatterpolargl": [
           {
            "marker": {
             "colorbar": {
              "outlinewidth": 0,
              "ticks": ""
             }
            },
            "type": "scatterpolargl"
           }
          ],
          "scatterternary": [
           {
            "marker": {
             "colorbar": {
              "outlinewidth": 0,
              "ticks": ""
             }
            },
            "type": "scatterternary"
           }
          ],
          "surface": [
           {
            "colorbar": {
             "outlinewidth": 0,
             "ticks": ""
            },
            "colorscale": [
             [
              0,
              "#0d0887"
             ],
             [
              0.1111111111111111,
              "#46039f"
             ],
             [
              0.2222222222222222,
              "#7201a8"
             ],
             [
              0.3333333333333333,
              "#9c179e"
             ],
             [
              0.4444444444444444,
              "#bd3786"
             ],
             [
              0.5555555555555556,
              "#d8576b"
             ],
             [
              0.6666666666666666,
              "#ed7953"
             ],
             [
              0.7777777777777778,
              "#fb9f3a"
             ],
             [
              0.8888888888888888,
              "#fdca26"
             ],
             [
              1,
              "#f0f921"
             ]
            ],
            "type": "surface"
           }
          ],
          "table": [
           {
            "cells": {
             "fill": {
              "color": "#EBF0F8"
             },
             "line": {
              "color": "white"
             }
            },
            "header": {
             "fill": {
              "color": "#C8D4E3"
             },
             "line": {
              "color": "white"
             }
            },
            "type": "table"
           }
          ]
         },
         "layout": {
          "annotationdefaults": {
           "arrowcolor": "#2a3f5f",
           "arrowhead": 0,
           "arrowwidth": 1
          },
          "autotypenumbers": "strict",
          "coloraxis": {
           "colorbar": {
            "outlinewidth": 0,
            "ticks": ""
           }
          },
          "colorscale": {
           "diverging": [
            [
             0,
             "#8e0152"
            ],
            [
             0.1,
             "#c51b7d"
            ],
            [
             0.2,
             "#de77ae"
            ],
            [
             0.3,
             "#f1b6da"
            ],
            [
             0.4,
             "#fde0ef"
            ],
            [
             0.5,
             "#f7f7f7"
            ],
            [
             0.6,
             "#e6f5d0"
            ],
            [
             0.7,
             "#b8e186"
            ],
            [
             0.8,
             "#7fbc41"
            ],
            [
             0.9,
             "#4d9221"
            ],
            [
             1,
             "#276419"
            ]
           ],
           "sequential": [
            [
             0,
             "#0d0887"
            ],
            [
             0.1111111111111111,
             "#46039f"
            ],
            [
             0.2222222222222222,
             "#7201a8"
            ],
            [
             0.3333333333333333,
             "#9c179e"
            ],
            [
             0.4444444444444444,
             "#bd3786"
            ],
            [
             0.5555555555555556,
             "#d8576b"
            ],
            [
             0.6666666666666666,
             "#ed7953"
            ],
            [
             0.7777777777777778,
             "#fb9f3a"
            ],
            [
             0.8888888888888888,
             "#fdca26"
            ],
            [
             1,
             "#f0f921"
            ]
           ],
           "sequentialminus": [
            [
             0,
             "#0d0887"
            ],
            [
             0.1111111111111111,
             "#46039f"
            ],
            [
             0.2222222222222222,
             "#7201a8"
            ],
            [
             0.3333333333333333,
             "#9c179e"
            ],
            [
             0.4444444444444444,
             "#bd3786"
            ],
            [
             0.5555555555555556,
             "#d8576b"
            ],
            [
             0.6666666666666666,
             "#ed7953"
            ],
            [
             0.7777777777777778,
             "#fb9f3a"
            ],
            [
             0.8888888888888888,
             "#fdca26"
            ],
            [
             1,
             "#f0f921"
            ]
           ]
          },
          "colorway": [
           "#636efa",
           "#EF553B",
           "#00cc96",
           "#ab63fa",
           "#FFA15A",
           "#19d3f3",
           "#FF6692",
           "#B6E880",
           "#FF97FF",
           "#FECB52"
          ],
          "font": {
           "color": "#2a3f5f"
          },
          "geo": {
           "bgcolor": "white",
           "lakecolor": "white",
           "landcolor": "#E5ECF6",
           "showlakes": true,
           "showland": true,
           "subunitcolor": "white"
          },
          "hoverlabel": {
           "align": "left"
          },
          "hovermode": "closest",
          "mapbox": {
           "style": "light"
          },
          "paper_bgcolor": "white",
          "plot_bgcolor": "#E5ECF6",
          "polar": {
           "angularaxis": {
            "gridcolor": "white",
            "linecolor": "white",
            "ticks": ""
           },
           "bgcolor": "#E5ECF6",
           "radialaxis": {
            "gridcolor": "white",
            "linecolor": "white",
            "ticks": ""
           }
          },
          "scene": {
           "xaxis": {
            "backgroundcolor": "#E5ECF6",
            "gridcolor": "white",
            "gridwidth": 2,
            "linecolor": "white",
            "showbackground": true,
            "ticks": "",
            "zerolinecolor": "white"
           },
           "yaxis": {
            "backgroundcolor": "#E5ECF6",
            "gridcolor": "white",
            "gridwidth": 2,
            "linecolor": "white",
            "showbackground": true,
            "ticks": "",
            "zerolinecolor": "white"
           },
           "zaxis": {
            "backgroundcolor": "#E5ECF6",
            "gridcolor": "white",
            "gridwidth": 2,
            "linecolor": "white",
            "showbackground": true,
            "ticks": "",
            "zerolinecolor": "white"
           }
          },
          "shapedefaults": {
           "line": {
            "color": "#2a3f5f"
           }
          },
          "ternary": {
           "aaxis": {
            "gridcolor": "white",
            "linecolor": "white",
            "ticks": ""
           },
           "baxis": {
            "gridcolor": "white",
            "linecolor": "white",
            "ticks": ""
           },
           "bgcolor": "#E5ECF6",
           "caxis": {
            "gridcolor": "white",
            "linecolor": "white",
            "ticks": ""
           }
          },
          "title": {
           "x": 0.05
          },
          "xaxis": {
           "automargin": true,
           "gridcolor": "white",
           "linecolor": "white",
           "ticks": "",
           "title": {
            "standoff": 15
           },
           "zerolinecolor": "white",
           "zerolinewidth": 2
          },
          "yaxis": {
           "automargin": true,
           "gridcolor": "white",
           "linecolor": "white",
           "ticks": "",
           "title": {
            "standoff": 15
           },
           "zerolinecolor": "white",
           "zerolinewidth": 2
          }
         }
        },
        "title": {
         "text": "Pie plot of Job Category"
        }
       }
      }
     },
     "metadata": {},
     "output_type": "display_data"
    }
   ],
   "source": [
    "fig = px.pie(plot_data, values='Count', names='Category',\n",
    "             title='Pie plot of Job Category',\n",
    "             color_discrete_sequence=px.colors.sequential.RdBu,\n",
    "             hole=0.4,\n",
    "             labels={'Category': 'Categories', 'Count': 'Count'},\n",
    "             opacity=0.8,\n",
    "             )\n",
    "\n",
    "# Customize the layout\n",
    "fig.update_layout(\n",
    "    legend_title='Categories',\n",
    "    font=dict(family='Times New Roman', size=16, color='black'),\n",
    "    plot_bgcolor='white',\n",
    "    margin=dict(t=50, b=50, l=50, r=50)\n",
    ")\n",
    "\n",
    "fig.show()"
   ]
  },
  {
   "cell_type": "markdown",
   "id": "639b4549",
   "metadata": {},
   "source": [
    "# <b>#Data Processing</b> "
   ]
  },
  {
   "cell_type": "code",
   "execution_count": 9,
   "metadata": {},
   "outputs": [
    {
     "name": "stderr",
     "output_type": "stream",
     "text": [
      "[nltk_data] Downloading package stopwords to\n",
      "[nltk_data]     C:\\Users\\harsh\\AppData\\Roaming\\nltk_data...\n",
      "[nltk_data]   Package stopwords is already up-to-date!\n",
      "[nltk_data] Downloading package wordnet to\n",
      "[nltk_data]     C:\\Users\\harsh\\AppData\\Roaming\\nltk_data...\n",
      "[nltk_data]   Package wordnet is already up-to-date!\n"
     ]
    }
   ],
   "source": [
    "# Preprocessing libraries\n",
    "import re\n",
    "from sklearn.preprocessing import LabelEncoder\n",
    "import nltk\n",
    "from nltk.corpus import stopwords\n",
    "nltk.download('stopwords')\n",
    "nltk.download('wordnet')\n",
    "from nltk.stem import WordNetLemmatizer \n",
    "import string\n",
    "from sklearn.feature_extraction.text import TfidfVectorizer"
   ]
  },
  {
   "cell_type": "markdown",
   "metadata": {},
   "source": [
    "### <b>#Cleaning Data:</b>                                      \n",
    "1 Removing (URLs, hashtags, mentions, special letters, punctuations)\n",
    "\n",
    "2 Tokenizing the cleaned text\n",
    "\n",
    "3 Removing Stop Words\n",
    "\n",
    "4 Performing Lemmatization on final text    \n",
    "\n",
    "- The resumeKeywords function removes URLs, hashtags, mentions, special characters, non-ASCII characters, multiple spaces, and stop words from the input text while also performing tokenization, lowercasing, and lemmatization to provide cleaned and processed text as output.\n",
    "\n",
    "- <b>Tokenization:</b> Tokenization is the process of breaking a text into individual words or tokens. In this step, the text is split into its constituent words, which makes it easier to analyze and process. For example, the sentence \"I love coding\" would be tokenized into three tokens: \"I,\" \"love,\" and \"coding.\"\n",
    "\n",
    "- <b> StopWords: </b> Stopwords are common words that are typically removed from text during natural language processing to improve text analysis and reduce noise in the data.Examples of common stopwords in English include \"the,\" \"and,\" \"in,\" \"is,\" \"of,\" \"it,\" \"to,\" and many others. Removing stopwords from text helps reduce the dimensionality of the data and focuses the analysis on more meaningful words\n",
    "\n",
    "- <b>Lemmatization:</b> Lemmatization is the process of reducing words to their base or root form. This step is essential for text analysis because it reduces different forms of a word to a common base form. For example, the words \"running\" and \"ran\" would both be lemmatized to \"run.\" This simplifies the text and ensures that similar words are treated as the same, which is crucial for accurate analysis and modeling."
   ]
  },
  {
   "cell_type": "code",
   "execution_count": 10,
   "id": "16656511",
   "metadata": {},
   "outputs": [],
   "source": [
    "\n",
    "def resumeKeywords(txt):   # sourcery skip: avoid-builtin-shadow, list-comprehension\n",
    "    cleanText = re.sub('http\\S+\\s', ' ', txt) # Removing URLs\n",
    "    cleanText = re.sub('#\\S+\\s', ' ', cleanText) # Removing hashtags\n",
    "    cleanText = re.sub('@\\S+', '  ', cleanText)  # Removing mentions\n",
    "    cleanText = re.sub('[%s]' % re.escape(\"\"\"!\"#$%&'()*+,-./:;<=>?@[\\]^_`{|}~\"\"\"), ' ', cleanText) # Removing punctuations\n",
    "    cleanText = re.sub(r'[^\\x00-\\x7f]', ' ', cleanText) # Removing non-ASCII characters\n",
    "    cleanText = re.sub('\\s+', ' ', cleanText) # Replace multiple spaces with a single space\n",
    "    cleanText = cleanText.strip() # Removing leading and trailing whitespaces\n",
    "    \n",
    "    #------------Tokenizing Cleaned Text--------------------------------------------------------\n",
    "    # Tokenizing our cleaned text\n",
    "    tokenizer = nltk.tokenize.RegexpTokenizer('\\w+')\n",
    "    tokens = tokenizer.tokenize(cleanText)\n",
    "    # Now lower everything and storing it in new variable words\n",
    "    words = []\n",
    "    for word in tokens:\n",
    "        words.append(word.lower())\n",
    "    #--------------------------------------------------------------------------------------------\n",
    "\n",
    "    #-------------Removing Stop Words------------------------------------------------------------\n",
    "    stopwords = nltk.corpus.stopwords.words('english')\n",
    "    words_new = []\n",
    "    for word in words:\n",
    "        if word not in stopwords:\n",
    "            words_new.append(word)\n",
    "    #--------------------------------------------------------------------------------------------\n",
    "    #-----------Performing Lemmatization---------------------------------------------------------\n",
    "    wn = WordNetLemmatizer() \n",
    "    lemm_text = [wn.lemmatize(word) for word in words_new]\n",
    "    #--------------------------------------------------------------------------------------------\n",
    "    #----------Converting List into String-------------------------------------------------------\n",
    "    processed_text = ' '.join(lemm_text)\n",
    "    \n",
    "    return processed_text"
   ]
  },
  {
   "cell_type": "markdown",
   "metadata": {},
   "source": [
    "<b>- Testing the above custom function to remove certain details from Resume</b>"
   ]
  },
  {
   "cell_type": "code",
   "execution_count": 11,
   "id": "8b2c86ba",
   "metadata": {},
   "outputs": [
    {
     "data": {
      "text/plain": [
       "'software engineer 2 year experience data structure algorithm agile scrum sdlc c java mvc javascript web development python data science machine learning ai mainframe technology programming language c c java python sql jcl cobol db2frameworks java spring spring boot react angular nodejstools git visual studio code sublime spyder jupyter notebook bluezone netbeans jira confluence kanban ci cd jenkins gitlab azure devops aws data brick library numpy panda matplotlib nltk scikit learn tensorflow kera problem solving quick learner time management'"
      ]
     },
     "execution_count": 11,
     "metadata": {},
     "output_type": "execute_result"
    }
   ],
   "source": [
    "resumeKeywords(\" https://www.github.com Software Engineer with 2 years of experience in Data Structures and Algorithms Agile Scrum, SDLC, C++, Java MVC, JavaScript, Web Development, Python \" +\n",
    "               \"Data Science, Machine Learning / AI, and Mainframe technologies Programming Languages: \tC/C++, Java, Python, SQL, JCL, Cobol, DB2\" + \n",
    "               \"Frameworks: %#####\tJava Spring, Spring boot, React, Angular, NodeJs\" +\n",
    "               \"Tools: \tGIT, Visual Studio Code, Sublime, Spyder, Jupyter Notebook, Bluezone, Netbeans, Jira, Confluence, Kanban, CI/CD (Jenkins, GitLab, Azure-Devops), AWS,\" + \n",
    "               \"Data-Bricks Libraries: \tNumPy, Pandas, Matplotlib, nltk, Scikit learn, TensorFlow, Keras Other: \tProblem-Solving, Quick Learner, Time-Management\")"
   ]
  },
  {
   "cell_type": "markdown",
   "metadata": {},
   "source": [
    "### <b>#Applying above created Custom Function to process the data and creating new column \"Processed_Resume\"</b>"
   ]
  },
  {
   "cell_type": "code",
   "execution_count": 12,
   "id": "e752795a",
   "metadata": {},
   "outputs": [
    {
     "data": {
      "text/html": [
       "<div>\n",
       "<style scoped>\n",
       "    .dataframe tbody tr th:only-of-type {\n",
       "        vertical-align: middle;\n",
       "    }\n",
       "\n",
       "    .dataframe tbody tr th {\n",
       "        vertical-align: top;\n",
       "    }\n",
       "\n",
       "    .dataframe thead th {\n",
       "        text-align: right;\n",
       "    }\n",
       "</style>\n",
       "<table border=\"1\" class=\"dataframe\">\n",
       "  <thead>\n",
       "    <tr style=\"text-align: right;\">\n",
       "      <th></th>\n",
       "      <th>Category</th>\n",
       "      <th>Resume</th>\n",
       "      <th>Processed_Resume</th>\n",
       "    </tr>\n",
       "  </thead>\n",
       "  <tbody>\n",
       "    <tr>\n",
       "      <th>0</th>\n",
       "      <td>Data Science</td>\n",
       "      <td>Skills * Programming Languages: Python (pandas...</td>\n",
       "      <td>skill programming language python panda numpy ...</td>\n",
       "    </tr>\n",
       "    <tr>\n",
       "      <th>1</th>\n",
       "      <td>Data Science</td>\n",
       "      <td>Education Details \\r\\nMay 2013 to May 2017 B.E...</td>\n",
       "      <td>education detail may 2013 may 2017 b e uit rgp...</td>\n",
       "    </tr>\n",
       "    <tr>\n",
       "      <th>2</th>\n",
       "      <td>Data Science</td>\n",
       "      <td>Areas of Interest Deep Learning, Control Syste...</td>\n",
       "      <td>area interest deep learning control system des...</td>\n",
       "    </tr>\n",
       "    <tr>\n",
       "      <th>3</th>\n",
       "      <td>Data Science</td>\n",
       "      <td>Skills â¢ R â¢ Python â¢ SAP HANA â¢ Table...</td>\n",
       "      <td>skill r python sap hana tableau sap hana sql s...</td>\n",
       "    </tr>\n",
       "    <tr>\n",
       "      <th>4</th>\n",
       "      <td>Data Science</td>\n",
       "      <td>Education Details \\r\\n MCA   YMCAUST,  Faridab...</td>\n",
       "      <td>education detail mca ymcaust faridabad haryana...</td>\n",
       "    </tr>\n",
       "  </tbody>\n",
       "</table>\n",
       "</div>"
      ],
      "text/plain": [
       "       Category                                             Resume  \\\n",
       "0  Data Science  Skills * Programming Languages: Python (pandas...   \n",
       "1  Data Science  Education Details \\r\\nMay 2013 to May 2017 B.E...   \n",
       "2  Data Science  Areas of Interest Deep Learning, Control Syste...   \n",
       "3  Data Science  Skills â¢ R â¢ Python â¢ SAP HANA â¢ Table...   \n",
       "4  Data Science  Education Details \\r\\n MCA   YMCAUST,  Faridab...   \n",
       "\n",
       "                                    Processed_Resume  \n",
       "0  skill programming language python panda numpy ...  \n",
       "1  education detail may 2013 may 2017 b e uit rgp...  \n",
       "2  area interest deep learning control system des...  \n",
       "3  skill r python sap hana tableau sap hana sql s...  \n",
       "4  education detail mca ymcaust faridabad haryana...  "
      ]
     },
     "execution_count": 12,
     "metadata": {},
     "output_type": "execute_result"
    }
   ],
   "source": [
    "df['Processed_Resume'] = df['Resume'].apply(lambda x: resumeKeywords(x))\n",
    "df.head()"
   ]
  },
  {
   "cell_type": "markdown",
   "metadata": {},
   "source": [
    "### <b>#Generating WordCloud from the cleaned text</b>"
   ]
  },
  {
   "cell_type": "code",
   "execution_count": 13,
   "metadata": {},
   "outputs": [
    {
     "name": "stdout",
     "output_type": "stream",
     "text": [
      "Requirement already satisfied: wordcloud in c:\\users\\harsh\\anaconda3\\lib\\site-packages (1.9.2)\n",
      "Requirement already satisfied: numpy>=1.6.1 in c:\\users\\harsh\\anaconda3\\lib\\site-packages (from wordcloud) (1.24.3)\n",
      "Requirement already satisfied: pillow in c:\\users\\harsh\\anaconda3\\lib\\site-packages (from wordcloud) (9.4.0)\n",
      "Requirement already satisfied: matplotlib in c:\\users\\harsh\\anaconda3\\lib\\site-packages (from wordcloud) (3.7.1)\n",
      "Requirement already satisfied: contourpy>=1.0.1 in c:\\users\\harsh\\anaconda3\\lib\\site-packages (from matplotlib->wordcloud) (1.0.5)\n",
      "Requirement already satisfied: cycler>=0.10 in c:\\users\\harsh\\anaconda3\\lib\\site-packages (from matplotlib->wordcloud) (0.11.0)\n",
      "Requirement already satisfied: fonttools>=4.22.0 in c:\\users\\harsh\\anaconda3\\lib\\site-packages (from matplotlib->wordcloud) (4.25.0)\n",
      "Requirement already satisfied: kiwisolver>=1.0.1 in c:\\users\\harsh\\anaconda3\\lib\\site-packages (from matplotlib->wordcloud) (1.4.4)\n",
      "Requirement already satisfied: packaging>=20.0 in c:\\users\\harsh\\anaconda3\\lib\\site-packages (from matplotlib->wordcloud) (23.0)\n",
      "Requirement already satisfied: pyparsing>=2.3.1 in c:\\users\\harsh\\anaconda3\\lib\\site-packages (from matplotlib->wordcloud) (3.0.9)\n",
      "Requirement already satisfied: python-dateutil>=2.7 in c:\\users\\harsh\\anaconda3\\lib\\site-packages (from matplotlib->wordcloud) (2.8.2)\n",
      "Requirement already satisfied: six>=1.5 in c:\\users\\harsh\\anaconda3\\lib\\site-packages (from python-dateutil>=2.7->matplotlib->wordcloud) (1.16.0)\n"
     ]
    }
   ],
   "source": [
    "!pip install wordcloud\n",
    "from wordcloud import WordCloud"
   ]
  },
  {
   "cell_type": "code",
   "execution_count": 14,
   "metadata": {},
   "outputs": [
    {
     "data": {
      "application/vnd.plotly.v1+json": {
       "config": {
        "plotlyServerURL": "https://plot.ly"
       },
       "data": [
        {
         "hovertemplate": "x: %{x}<br>y: %{y}<br>color: [%{z[0]}, %{z[1]}, %{z[2]}]<extra></extra>",
         "name": "0",
         "source": "data:image/png;base64,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",
         "type": "image",
         "xaxis": "x",
         "yaxis": "y"
        }
       ],
       "layout": {
        "margin": {
         "t": 60
        },
        "plot_bgcolor": "white",
        "template": {
         "data": {
          "bar": [
           {
            "error_x": {
             "color": "#2a3f5f"
            },
            "error_y": {
             "color": "#2a3f5f"
            },
            "marker": {
             "line": {
              "color": "#E5ECF6",
              "width": 0.5
             },
             "pattern": {
              "fillmode": "overlay",
              "size": 10,
              "solidity": 0.2
             }
            },
            "type": "bar"
           }
          ],
          "barpolar": [
           {
            "marker": {
             "line": {
              "color": "#E5ECF6",
              "width": 0.5
             },
             "pattern": {
              "fillmode": "overlay",
              "size": 10,
              "solidity": 0.2
             }
            },
            "type": "barpolar"
           }
          ],
          "carpet": [
           {
            "aaxis": {
             "endlinecolor": "#2a3f5f",
             "gridcolor": "white",
             "linecolor": "white",
             "minorgridcolor": "white",
             "startlinecolor": "#2a3f5f"
            },
            "baxis": {
             "endlinecolor": "#2a3f5f",
             "gridcolor": "white",
             "linecolor": "white",
             "minorgridcolor": "white",
             "startlinecolor": "#2a3f5f"
            },
            "type": "carpet"
           }
          ],
          "choropleth": [
           {
            "colorbar": {
             "outlinewidth": 0,
             "ticks": ""
            },
            "type": "choropleth"
           }
          ],
          "contour": [
           {
            "colorbar": {
             "outlinewidth": 0,
             "ticks": ""
            },
            "colorscale": [
             [
              0,
              "#0d0887"
             ],
             [
              0.1111111111111111,
              "#46039f"
             ],
             [
              0.2222222222222222,
              "#7201a8"
             ],
             [
              0.3333333333333333,
              "#9c179e"
             ],
             [
              0.4444444444444444,
              "#bd3786"
             ],
             [
              0.5555555555555556,
              "#d8576b"
             ],
             [
              0.6666666666666666,
              "#ed7953"
             ],
             [
              0.7777777777777778,
              "#fb9f3a"
             ],
             [
              0.8888888888888888,
              "#fdca26"
             ],
             [
              1,
              "#f0f921"
             ]
            ],
            "type": "contour"
           }
          ],
          "contourcarpet": [
           {
            "colorbar": {
             "outlinewidth": 0,
             "ticks": ""
            },
            "type": "contourcarpet"
           }
          ],
          "heatmap": [
           {
            "colorbar": {
             "outlinewidth": 0,
             "ticks": ""
            },
            "colorscale": [
             [
              0,
              "#0d0887"
             ],
             [
              0.1111111111111111,
              "#46039f"
             ],
             [
              0.2222222222222222,
              "#7201a8"
             ],
             [
              0.3333333333333333,
              "#9c179e"
             ],
             [
              0.4444444444444444,
              "#bd3786"
             ],
             [
              0.5555555555555556,
              "#d8576b"
             ],
             [
              0.6666666666666666,
              "#ed7953"
             ],
             [
              0.7777777777777778,
              "#fb9f3a"
             ],
             [
              0.8888888888888888,
              "#fdca26"
             ],
             [
              1,
              "#f0f921"
             ]
            ],
            "type": "heatmap"
           }
          ],
          "heatmapgl": [
           {
            "colorbar": {
             "outlinewidth": 0,
             "ticks": ""
            },
            "colorscale": [
             [
              0,
              "#0d0887"
             ],
             [
              0.1111111111111111,
              "#46039f"
             ],
             [
              0.2222222222222222,
              "#7201a8"
             ],
             [
              0.3333333333333333,
              "#9c179e"
             ],
             [
              0.4444444444444444,
              "#bd3786"
             ],
             [
              0.5555555555555556,
              "#d8576b"
             ],
             [
              0.6666666666666666,
              "#ed7953"
             ],
             [
              0.7777777777777778,
              "#fb9f3a"
             ],
             [
              0.8888888888888888,
              "#fdca26"
             ],
             [
              1,
              "#f0f921"
             ]
            ],
            "type": "heatmapgl"
           }
          ],
          "histogram": [
           {
            "marker": {
             "pattern": {
              "fillmode": "overlay",
              "size": 10,
              "solidity": 0.2
             }
            },
            "type": "histogram"
           }
          ],
          "histogram2d": [
           {
            "colorbar": {
             "outlinewidth": 0,
             "ticks": ""
            },
            "colorscale": [
             [
              0,
              "#0d0887"
             ],
             [
              0.1111111111111111,
              "#46039f"
             ],
             [
              0.2222222222222222,
              "#7201a8"
             ],
             [
              0.3333333333333333,
              "#9c179e"
             ],
             [
              0.4444444444444444,
              "#bd3786"
             ],
             [
              0.5555555555555556,
              "#d8576b"
             ],
             [
              0.6666666666666666,
              "#ed7953"
             ],
             [
              0.7777777777777778,
              "#fb9f3a"
             ],
             [
              0.8888888888888888,
              "#fdca26"
             ],
             [
              1,
              "#f0f921"
             ]
            ],
            "type": "histogram2d"
           }
          ],
          "histogram2dcontour": [
           {
            "colorbar": {
             "outlinewidth": 0,
             "ticks": ""
            },
            "colorscale": [
             [
              0,
              "#0d0887"
             ],
             [
              0.1111111111111111,
              "#46039f"
             ],
             [
              0.2222222222222222,
              "#7201a8"
             ],
             [
              0.3333333333333333,
              "#9c179e"
             ],
             [
              0.4444444444444444,
              "#bd3786"
             ],
             [
              0.5555555555555556,
              "#d8576b"
             ],
             [
              0.6666666666666666,
              "#ed7953"
             ],
             [
              0.7777777777777778,
              "#fb9f3a"
             ],
             [
              0.8888888888888888,
              "#fdca26"
             ],
             [
              1,
              "#f0f921"
             ]
            ],
            "type": "histogram2dcontour"
           }
          ],
          "mesh3d": [
           {
            "colorbar": {
             "outlinewidth": 0,
             "ticks": ""
            },
            "type": "mesh3d"
           }
          ],
          "parcoords": [
           {
            "line": {
             "colorbar": {
              "outlinewidth": 0,
              "ticks": ""
             }
            },
            "type": "parcoords"
           }
          ],
          "pie": [
           {
            "automargin": true,
            "type": "pie"
           }
          ],
          "scatter": [
           {
            "fillpattern": {
             "fillmode": "overlay",
             "size": 10,
             "solidity": 0.2
            },
            "type": "scatter"
           }
          ],
          "scatter3d": [
           {
            "line": {
             "colorbar": {
              "outlinewidth": 0,
              "ticks": ""
             }
            },
            "marker": {
             "colorbar": {
              "outlinewidth": 0,
              "ticks": ""
             }
            },
            "type": "scatter3d"
           }
          ],
          "scattercarpet": [
           {
            "marker": {
             "colorbar": {
              "outlinewidth": 0,
              "ticks": ""
             }
            },
            "type": "scattercarpet"
           }
          ],
          "scattergeo": [
           {
            "marker": {
             "colorbar": {
              "outlinewidth": 0,
              "ticks": ""
             }
            },
            "type": "scattergeo"
           }
          ],
          "scattergl": [
           {
            "marker": {
             "colorbar": {
              "outlinewidth": 0,
              "ticks": ""
             }
            },
            "type": "scattergl"
           }
          ],
          "scattermapbox": [
           {
            "marker": {
             "colorbar": {
              "outlinewidth": 0,
              "ticks": ""
             }
            },
            "type": "scattermapbox"
           }
          ],
          "scatterpolar": [
           {
            "marker": {
             "colorbar": {
              "outlinewidth": 0,
              "ticks": ""
             }
            },
            "type": "scatterpolar"
           }
          ],
          "scatterpolargl": [
           {
            "marker": {
             "colorbar": {
              "outlinewidth": 0,
              "ticks": ""
             }
            },
            "type": "scatterpolargl"
           }
          ],
          "scatterternary": [
           {
            "marker": {
             "colorbar": {
              "outlinewidth": 0,
              "ticks": ""
             }
            },
            "type": "scatterternary"
           }
          ],
          "surface": [
           {
            "colorbar": {
             "outlinewidth": 0,
             "ticks": ""
            },
            "colorscale": [
             [
              0,
              "#0d0887"
             ],
             [
              0.1111111111111111,
              "#46039f"
             ],
             [
              0.2222222222222222,
              "#7201a8"
             ],
             [
              0.3333333333333333,
              "#9c179e"
             ],
             [
              0.4444444444444444,
              "#bd3786"
             ],
             [
              0.5555555555555556,
              "#d8576b"
             ],
             [
              0.6666666666666666,
              "#ed7953"
             ],
             [
              0.7777777777777778,
              "#fb9f3a"
             ],
             [
              0.8888888888888888,
              "#fdca26"
             ],
             [
              1,
              "#f0f921"
             ]
            ],
            "type": "surface"
           }
          ],
          "table": [
           {
            "cells": {
             "fill": {
              "color": "#EBF0F8"
             },
             "line": {
              "color": "white"
             }
            },
            "header": {
             "fill": {
              "color": "#C8D4E3"
             },
             "line": {
              "color": "white"
             }
            },
            "type": "table"
           }
          ]
         },
         "layout": {
          "annotationdefaults": {
           "arrowcolor": "#2a3f5f",
           "arrowhead": 0,
           "arrowwidth": 1
          },
          "autotypenumbers": "strict",
          "coloraxis": {
           "colorbar": {
            "outlinewidth": 0,
            "ticks": ""
           }
          },
          "colorscale": {
           "diverging": [
            [
             0,
             "#8e0152"
            ],
            [
             0.1,
             "#c51b7d"
            ],
            [
             0.2,
             "#de77ae"
            ],
            [
             0.3,
             "#f1b6da"
            ],
            [
             0.4,
             "#fde0ef"
            ],
            [
             0.5,
             "#f7f7f7"
            ],
            [
             0.6,
             "#e6f5d0"
            ],
            [
             0.7,
             "#b8e186"
            ],
            [
             0.8,
             "#7fbc41"
            ],
            [
             0.9,
             "#4d9221"
            ],
            [
             1,
             "#276419"
            ]
           ],
           "sequential": [
            [
             0,
             "#0d0887"
            ],
            [
             0.1111111111111111,
             "#46039f"
            ],
            [
             0.2222222222222222,
             "#7201a8"
            ],
            [
             0.3333333333333333,
             "#9c179e"
            ],
            [
             0.4444444444444444,
             "#bd3786"
            ],
            [
             0.5555555555555556,
             "#d8576b"
            ],
            [
             0.6666666666666666,
             "#ed7953"
            ],
            [
             0.7777777777777778,
             "#fb9f3a"
            ],
            [
             0.8888888888888888,
             "#fdca26"
            ],
            [
             1,
             "#f0f921"
            ]
           ],
           "sequentialminus": [
            [
             0,
             "#0d0887"
            ],
            [
             0.1111111111111111,
             "#46039f"
            ],
            [
             0.2222222222222222,
             "#7201a8"
            ],
            [
             0.3333333333333333,
             "#9c179e"
            ],
            [
             0.4444444444444444,
             "#bd3786"
            ],
            [
             0.5555555555555556,
             "#d8576b"
            ],
            [
             0.6666666666666666,
             "#ed7953"
            ],
            [
             0.7777777777777778,
             "#fb9f3a"
            ],
            [
             0.8888888888888888,
             "#fdca26"
            ],
            [
             1,
             "#f0f921"
            ]
           ]
          },
          "colorway": [
           "#636efa",
           "#EF553B",
           "#00cc96",
           "#ab63fa",
           "#FFA15A",
           "#19d3f3",
           "#FF6692",
           "#B6E880",
           "#FF97FF",
           "#FECB52"
          ],
          "font": {
           "color": "#2a3f5f"
          },
          "geo": {
           "bgcolor": "white",
           "lakecolor": "white",
           "landcolor": "#E5ECF6",
           "showlakes": true,
           "showland": true,
           "subunitcolor": "white"
          },
          "hoverlabel": {
           "align": "left"
          },
          "hovermode": "closest",
          "mapbox": {
           "style": "light"
          },
          "paper_bgcolor": "white",
          "plot_bgcolor": "#E5ECF6",
          "polar": {
           "angularaxis": {
            "gridcolor": "white",
            "linecolor": "white",
            "ticks": ""
           },
           "bgcolor": "#E5ECF6",
           "radialaxis": {
            "gridcolor": "white",
            "linecolor": "white",
            "ticks": ""
           }
          },
          "scene": {
           "xaxis": {
            "backgroundcolor": "#E5ECF6",
            "gridcolor": "white",
            "gridwidth": 2,
            "linecolor": "white",
            "showbackground": true,
            "ticks": "",
            "zerolinecolor": "white"
           },
           "yaxis": {
            "backgroundcolor": "#E5ECF6",
            "gridcolor": "white",
            "gridwidth": 2,
            "linecolor": "white",
            "showbackground": true,
            "ticks": "",
            "zerolinecolor": "white"
           },
           "zaxis": {
            "backgroundcolor": "#E5ECF6",
            "gridcolor": "white",
            "gridwidth": 2,
            "linecolor": "white",
            "showbackground": true,
            "ticks": "",
            "zerolinecolor": "white"
           }
          },
          "shapedefaults": {
           "line": {
            "color": "#2a3f5f"
           }
          },
          "ternary": {
           "aaxis": {
            "gridcolor": "white",
            "linecolor": "white",
            "ticks": ""
           },
           "baxis": {
            "gridcolor": "white",
            "linecolor": "white",
            "ticks": ""
           },
           "bgcolor": "#E5ECF6",
           "caxis": {
            "gridcolor": "white",
            "linecolor": "white",
            "ticks": ""
           }
          },
          "title": {
           "x": 0.05
          },
          "xaxis": {
           "automargin": true,
           "gridcolor": "white",
           "linecolor": "white",
           "ticks": "",
           "title": {
            "standoff": 15
           },
           "zerolinecolor": "white",
           "zerolinewidth": 2
          },
          "yaxis": {
           "automargin": true,
           "gridcolor": "white",
           "linecolor": "white",
           "ticks": "",
           "title": {
            "standoff": 15
           },
           "zerolinecolor": "white",
           "zerolinewidth": 2
          }
         }
        },
        "title": {
         "text": "Word Cloud of Cleaned Text"
        },
        "xaxis": {
         "anchor": "y",
         "domain": [
          0,
          1
         ],
         "showticklabels": false
        },
        "yaxis": {
         "anchor": "x",
         "domain": [
          0,
          1
         ],
         "showticklabels": false
        }
       }
      }
     },
     "metadata": {},
     "output_type": "display_data"
    }
   ],
   "source": [
    "# Join the cleaned text into a single string\n",
    "text = ' '.join(df['Processed_Resume'])\n",
    "\n",
    "# Create a word cloud\n",
    "wordcloud = WordCloud(background_color='white',\n",
    "                      width=800,\n",
    "                      height=600,\n",
    "                      max_words=100,\n",
    "                      colormap='viridis'\n",
    "                      ).generate(text)\n",
    "\n",
    "# Convert word cloud to an image\n",
    "wordcloud_image = wordcloud.to_image()\n",
    "\n",
    "# Display the word cloud using Plotly as an image\n",
    "fig = px.imshow(wordcloud_image)\n",
    "fig.update_layout(\n",
    "    title='Word Cloud of Cleaned Text',\n",
    "    xaxis_showticklabels=False,\n",
    "    yaxis_showticklabels=False,\n",
    "    plot_bgcolor='white'\n",
    ")\n",
    "fig.show()"
   ]
  },
  {
   "cell_type": "markdown",
   "metadata": {},
   "source": [
    "### <b>#Encoding the Category column and plotting it</b>"
   ]
  },
  {
   "cell_type": "code",
   "execution_count": 15,
   "metadata": {},
   "outputs": [
    {
     "data": {
      "text/html": [
       "<div>\n",
       "<style scoped>\n",
       "    .dataframe tbody tr th:only-of-type {\n",
       "        vertical-align: middle;\n",
       "    }\n",
       "\n",
       "    .dataframe tbody tr th {\n",
       "        vertical-align: top;\n",
       "    }\n",
       "\n",
       "    .dataframe thead th {\n",
       "        text-align: right;\n",
       "    }\n",
       "</style>\n",
       "<table border=\"1\" class=\"dataframe\">\n",
       "  <thead>\n",
       "    <tr style=\"text-align: right;\">\n",
       "      <th></th>\n",
       "      <th>Category</th>\n",
       "      <th>Resume</th>\n",
       "      <th>Processed_Resume</th>\n",
       "      <th>Encoded_Category</th>\n",
       "    </tr>\n",
       "  </thead>\n",
       "  <tbody>\n",
       "    <tr>\n",
       "      <th>0</th>\n",
       "      <td>Data Science</td>\n",
       "      <td>Skills * Programming Languages: Python (pandas...</td>\n",
       "      <td>skill programming language python panda numpy ...</td>\n",
       "      <td>6</td>\n",
       "    </tr>\n",
       "    <tr>\n",
       "      <th>1</th>\n",
       "      <td>Data Science</td>\n",
       "      <td>Education Details \\r\\nMay 2013 to May 2017 B.E...</td>\n",
       "      <td>education detail may 2013 may 2017 b e uit rgp...</td>\n",
       "      <td>6</td>\n",
       "    </tr>\n",
       "    <tr>\n",
       "      <th>2</th>\n",
       "      <td>Data Science</td>\n",
       "      <td>Areas of Interest Deep Learning, Control Syste...</td>\n",
       "      <td>area interest deep learning control system des...</td>\n",
       "      <td>6</td>\n",
       "    </tr>\n",
       "    <tr>\n",
       "      <th>3</th>\n",
       "      <td>Data Science</td>\n",
       "      <td>Skills â¢ R â¢ Python â¢ SAP HANA â¢ Table...</td>\n",
       "      <td>skill r python sap hana tableau sap hana sql s...</td>\n",
       "      <td>6</td>\n",
       "    </tr>\n",
       "    <tr>\n",
       "      <th>4</th>\n",
       "      <td>Data Science</td>\n",
       "      <td>Education Details \\r\\n MCA   YMCAUST,  Faridab...</td>\n",
       "      <td>education detail mca ymcaust faridabad haryana...</td>\n",
       "      <td>6</td>\n",
       "    </tr>\n",
       "  </tbody>\n",
       "</table>\n",
       "</div>"
      ],
      "text/plain": [
       "       Category                                             Resume  \\\n",
       "0  Data Science  Skills * Programming Languages: Python (pandas...   \n",
       "1  Data Science  Education Details \\r\\nMay 2013 to May 2017 B.E...   \n",
       "2  Data Science  Areas of Interest Deep Learning, Control Syste...   \n",
       "3  Data Science  Skills â¢ R â¢ Python â¢ SAP HANA â¢ Table...   \n",
       "4  Data Science  Education Details \\r\\n MCA   YMCAUST,  Faridab...   \n",
       "\n",
       "                                    Processed_Resume  Encoded_Category  \n",
       "0  skill programming language python panda numpy ...                 6  \n",
       "1  education detail may 2013 may 2017 b e uit rgp...                 6  \n",
       "2  area interest deep learning control system des...                 6  \n",
       "3  skill r python sap hana tableau sap hana sql s...                 6  \n",
       "4  education detail mca ymcaust faridabad haryana...                 6  "
      ]
     },
     "execution_count": 15,
     "metadata": {},
     "output_type": "execute_result"
    }
   ],
   "source": [
    "# Label encoding our Category\n",
    "label = LabelEncoder()\n",
    "df['Encoded_Category'] = label.fit_transform(df['Category'])\n",
    "df.head()"
   ]
  },
  {
   "cell_type": "code",
   "execution_count": 16,
   "metadata": {},
   "outputs": [
    {
     "data": {
      "image/png": "[encoded data removed]",
      "text/plain": [
       "<Figure size 640x480 with 1 Axes>"
      ]
     },
     "metadata": {},
     "output_type": "display_data"
    },
    {
     "data": {
      "image/png": "[encoded data removed]",
      "text/plain": [
       "<Figure size 640x480 with 1 Axes>"
      ]
     },
     "metadata": {},
     "output_type": "display_data"
    }
   ],
   "source": [
    "# Creating the bar plot\n",
    "df['Encoded_Category'].value_counts().plot(kind = 'bar', title='Encoded Category counts', xlabel='Category', ylabel='counts')\n",
    "plt.show()\n",
    "df['Category'].value_counts().plot(kind = 'bar', title='Category counts', xlabel='Category', ylabel='Counts')\n",
    "plt.show()"
   ]
  },
  {
   "cell_type": "code",
   "execution_count": 17,
   "metadata": {},
   "outputs": [],
   "source": [
    "category_mapping = {\n",
    "    15: \"Java Developer\",\n",
    "    23: \"Testing\",\n",
    "    8: \"DevOps Engineer\",\n",
    "    20: \"Python Developer\",\n",
    "    24: \"Web Designing\",\n",
    "    12: \"HR\",\n",
    "    13: \"Hadoop\",\n",
    "    3: \"Blockchain\",\n",
    "    10: \"ETL Developer\",\n",
    "    18: \"Operations Manager\",\n",
    "    6: \"Data Science\",\n",
    "    22: \"Sales\",\n",
    "    16: \"Mechanical Engineer\",\n",
    "    1: \"Arts\",\n",
    "    7: \"Database\",\n",
    "    11: \"Electrical Engineering\",\n",
    "    14: \"Health and fitness\",\n",
    "    19: \"PMO\",\n",
    "    4: \"Business Analyst\",\n",
    "    9: \"DotNet Developer\",\n",
    "    2: \"Automation Testing\",\n",
    "    17: \"Network Security Engineer\",\n",
    "    21: \"SAP Developer\",\n",
    "    5: \"Civil Engineer\",\n",
    "    0: \"Advocate\",\n",
    "}"
   ]
  },
  {
   "cell_type": "markdown",
   "id": "2a65059b",
   "metadata": {},
   "source": [
    "### <b>#Vectorization (using TfidfVectorizer)</b>"
   ]
  },
  {
   "cell_type": "code",
   "execution_count": 18,
   "id": "d0e3603a",
   "metadata": {},
   "outputs": [
    {
     "name": "stdout",
     "output_type": "stream",
     "text": [
      "  (0, 6545)\t0.0796974603078024\n",
      "  (0, 6534)\t0.013062480866056986\n",
      "  (0, 6486)\t0.01598069156289656\n",
      "  (0, 6482)\t0.04632697838273315\n",
      "  (0, 6481)\t0.12388158371556562\n",
      "  (0, 6352)\t0.07006909194186212\n",
      "  (0, 6341)\t0.032825773010886516\n",
      "  (0, 6280)\t0.03644830661863624\n",
      "  (0, 6264)\t0.015414830123245859\n",
      "  (0, 6245)\t0.04632697838273315\n",
      "  (0, 6221)\t0.014826027158545772\n",
      "  (0, 6219)\t0.04978030320328149\n",
      "  (0, 6217)\t0.018883664761034213\n",
      "  (0, 6212)\t0.026288088733853982\n",
      "  (0, 6189)\t0.04197750505677255\n",
      "  (0, 6166)\t0.02156454127026071\n",
      "  (0, 6165)\t0.023320710093874923\n",
      "  (0, 6085)\t0.04632697838273315\n",
      "  (0, 6067)\t0.034417543058800563\n",
      "  (0, 5999)\t0.17853857112282104\n",
      "  (0, 5998)\t0.11777560177430524\n",
      "  (0, 5961)\t0.03318686880218766\n",
      "  (0, 5906)\t0.04632697838273315\n",
      "  (0, 5902)\t0.11542901278343008\n",
      "  (0, 5891)\t0.028583157111761827\n",
      "  :\t:\n",
      "  (961, 1481)\t0.038219738034296194\n",
      "  (961, 1473)\t0.04933547311496276\n",
      "  (961, 1309)\t0.014541583919486638\n",
      "  (961, 1268)\t0.055521165495729594\n",
      "  (961, 1209)\t0.053634812785089386\n",
      "  (961, 1126)\t0.06450742902604051\n",
      "  (961, 1054)\t0.07659376379298308\n",
      "  (961, 972)\t0.0898940336036663\n",
      "  (961, 928)\t0.07957384679896677\n",
      "  (961, 786)\t0.1217073040909815\n",
      "  (961, 704)\t0.04046133308125018\n",
      "  (961, 671)\t0.056436895871896785\n",
      "  (961, 669)\t0.12160178397527342\n",
      "  (961, 553)\t0.08130346085424676\n",
      "  (961, 521)\t0.05974923501816378\n",
      "  (961, 510)\t0.18027421716276415\n",
      "  (961, 505)\t0.04119777317203017\n",
      "  (961, 118)\t0.08455084093641299\n",
      "  (961, 99)\t0.03079152435807894\n",
      "  (961, 95)\t0.03747000581834987\n",
      "  (961, 94)\t0.04366138144621245\n",
      "  (961, 90)\t0.04718861184878714\n",
      "  (961, 88)\t0.042275420468206495\n",
      "  (961, 84)\t0.05185511839074307\n",
      "  (961, 15)\t0.1490096877985794\n"
     ]
    }
   ],
   "source": [
    "from sklearn.feature_extraction.text import TfidfVectorizer\n",
    "tfidf = TfidfVectorizer(stop_words='english')\n",
    "\n",
    "tfidf.fit(df['Processed_Resume'])\n",
    "requiredText  = tfidf.transform(df['Processed_Resume'])\n",
    "print(requiredText)"
   ]
  },
  {
   "cell_type": "markdown",
   "metadata": {},
   "source": [
    "# <b>#Model Creation</b>"
   ]
  },
  {
   "cell_type": "markdown",
   "id": "63d3c383",
   "metadata": {},
   "source": [
    "### <b>#Splitting into Train and Test using (Vectorized text & Encoded category)</b>"
   ]
  },
  {
   "cell_type": "code",
   "execution_count": 19,
   "id": "0f67afa8",
   "metadata": {},
   "outputs": [
    {
     "name": "stdout",
     "output_type": "stream",
     "text": [
      "(721, 6559)\n",
      "(241, 6559)\n"
     ]
    }
   ],
   "source": [
    "from sklearn.model_selection import train_test_split\n",
    "\n",
    "X_train, X_test, y_train, y_test = train_test_split(requiredText, df['Encoded_Category'], test_size=0.25, random_state=42)\n",
    "print(X_train.shape)\n",
    "\n",
    "print(X_test.shape)"
   ]
  },
  {
   "cell_type": "markdown",
   "id": "e06b1be4",
   "metadata": {},
   "source": [
    "### <b>#Training the baseline model and printing its Accuracy</b>\n",
    "- KNeighbors Classifier\n",
    "- Multinomial NB"
   ]
  },
  {
   "cell_type": "code",
   "execution_count": 20,
   "id": "d24938b1",
   "metadata": {},
   "outputs": [
    {
     "name": "stdout",
     "output_type": "stream",
     "text": [
      "Accuracy:  94.1908713692946  % \n",
      "\n",
      "              precision    recall  f1-score   support\n",
      "\n",
      "           0       1.00      0.50      0.67         6\n",
      "           1       1.00      1.00      1.00         8\n",
      "           2       1.00      0.83      0.91         6\n",
      "           3       1.00      1.00      1.00        10\n",
      "           4       1.00      1.00      1.00         5\n",
      "           5       1.00      1.00      1.00         9\n",
      "           6       1.00      1.00      1.00         9\n",
      "           7       1.00      1.00      1.00         9\n",
      "           8       1.00      0.88      0.94        17\n",
      "           9       1.00      0.30      0.46        10\n",
      "          10       1.00      1.00      1.00         7\n",
      "          11       1.00      1.00      1.00         7\n",
      "          12       1.00      0.93      0.97        15\n",
      "          13       1.00      1.00      1.00         6\n",
      "          14       1.00      1.00      1.00        10\n",
      "          15       0.66      1.00      0.79        21\n",
      "          16       1.00      1.00      1.00        10\n",
      "          17       1.00      1.00      1.00         3\n",
      "          18       1.00      1.00      1.00        14\n",
      "          19       0.89      1.00      0.94         8\n",
      "          20       1.00      1.00      1.00        11\n",
      "          21       1.00      1.00      1.00         7\n",
      "          22       1.00      1.00      1.00         9\n",
      "          23       0.95      1.00      0.97        19\n",
      "          24       0.83      1.00      0.91         5\n",
      "\n",
      "    accuracy                           0.94       241\n",
      "   macro avg       0.97      0.94      0.94       241\n",
      "weighted avg       0.96      0.94      0.94       241\n",
      "\n"
     ]
    }
   ],
   "source": [
    "from sklearn.neighbors import KNeighborsClassifier\n",
    "from sklearn.multiclass import OneVsRestClassifier\n",
    "from sklearn.naive_bayes import MultinomialNB\n",
    "from sklearn.metrics import accuracy_score, classification_report\n",
    "\n",
    "mnb = MultinomialNB()\n",
    "mnb.fit(X_train,y_train)\n",
    "y_pred1 = mnb.predict(X_test)\n",
    "print('Accuracy: ', accuracy_score(y_test,y_pred1)*100, ' % \\n')\n",
    "print(classification_report(y_test, y_pred1))"
   ]
  },
  {
   "cell_type": "code",
   "execution_count": 21,
   "metadata": {},
   "outputs": [
    {
     "name": "stdout",
     "output_type": "stream",
     "text": [
      "Accuracy:  97.9253112033195  %\n",
      "              precision    recall  f1-score   support\n",
      "\n",
      "           0       1.00      0.83      0.91         6\n",
      "           1       1.00      1.00      1.00         8\n",
      "           2       1.00      1.00      1.00         6\n",
      "           3       1.00      1.00      1.00        10\n",
      "           4       1.00      1.00      1.00         5\n",
      "           5       1.00      1.00      1.00         9\n",
      "           6       0.88      0.78      0.82         9\n",
      "           7       1.00      1.00      1.00         9\n",
      "           8       1.00      0.88      0.94        17\n",
      "           9       1.00      1.00      1.00        10\n",
      "          10       1.00      1.00      1.00         7\n",
      "          11       1.00      1.00      1.00         7\n",
      "          12       1.00      1.00      1.00        15\n",
      "          13       1.00      1.00      1.00         6\n",
      "          14       1.00      1.00      1.00        10\n",
      "          15       1.00      1.00      1.00        21\n",
      "          16       1.00      1.00      1.00        10\n",
      "          17       1.00      1.00      1.00         3\n",
      "          18       0.93      1.00      0.97        14\n",
      "          19       1.00      1.00      1.00         8\n",
      "          20       1.00      1.00      1.00        11\n",
      "          21       0.78      1.00      0.88         7\n",
      "          22       1.00      1.00      1.00         9\n",
      "          23       1.00      1.00      1.00        19\n",
      "          24       0.83      1.00      0.91         5\n",
      "\n",
      "    accuracy                           0.98       241\n",
      "   macro avg       0.98      0.98      0.98       241\n",
      "weighted avg       0.98      0.98      0.98       241\n",
      "\n"
     ]
    }
   ],
   "source": [
    "knc = OneVsRestClassifier(KNeighborsClassifier())\n",
    "knc.fit(X_train,y_train)\n",
    "y_pred2 = knc.predict(X_test)\n",
    "print('Accuracy: ', accuracy_score(y_test,y_pred2)*100, ' %')\n",
    "print(classification_report(y_test, y_pred2))"
   ]
  },
  {
   "cell_type": "markdown",
   "metadata": {},
   "source": [
    "### <b>#Training the advanced model and printing its Accuracy</b>\n",
    "- RNN"
   ]
  },
  {
   "cell_type": "code",
   "execution_count": 22,
   "metadata": {},
   "outputs": [
    {
     "name": "stdout",
     "output_type": "stream",
     "text": [
      "Epoch 1/50\n",
      "12/12 [==============================] - 7s 296ms/step - loss: 3.2011 - accuracy: 0.1304 - val_loss: 3.1651 - val_accuracy: 0.1577\n",
      "Epoch 2/50\n",
      "12/12 [==============================] - 3s 213ms/step - loss: 3.0576 - accuracy: 0.1345 - val_loss: 2.7937 - val_accuracy: 0.1162\n",
      "Epoch 3/50\n",
      "12/12 [==============================] - 2s 182ms/step - loss: 2.6217 - accuracy: 0.2455 - val_loss: 2.3339 - val_accuracy: 0.2282\n",
      "Epoch 4/50\n",
      "12/12 [==============================] - 2s 190ms/step - loss: 2.0908 - accuracy: 0.3662 - val_loss: 1.8835 - val_accuracy: 0.3983\n",
      "Epoch 5/50\n",
      "12/12 [==============================] - 2s 186ms/step - loss: 1.6638 - accuracy: 0.4730 - val_loss: 1.6152 - val_accuracy: 0.4813\n",
      "Epoch 6/50\n",
      "12/12 [==============================] - 2s 189ms/step - loss: 1.3501 - accuracy: 0.5839 - val_loss: 1.2896 - val_accuracy: 0.6349\n",
      "Epoch 7/50\n",
      "12/12 [==============================] - 2s 187ms/step - loss: 1.0548 - accuracy: 0.7184 - val_loss: 1.0647 - val_accuracy: 0.7303\n",
      "Epoch 8/50\n",
      "12/12 [==============================] - 2s 195ms/step - loss: 0.8227 - accuracy: 0.8197 - val_loss: 0.8789 - val_accuracy: 0.8423\n",
      "Epoch 9/50\n",
      "12/12 [==============================] - 3s 214ms/step - loss: 0.6729 - accuracy: 0.8793 - val_loss: 1.1513 - val_accuracy: 0.7137\n",
      "Epoch 10/50\n",
      "12/12 [==============================] - 2s 190ms/step - loss: 0.7163 - accuracy: 0.8308 - val_loss: 0.7201 - val_accuracy: 0.8714\n",
      "Epoch 11/50\n",
      "12/12 [==============================] - 2s 189ms/step - loss: 0.5471 - accuracy: 0.8890 - val_loss: 0.8247 - val_accuracy: 0.7510\n",
      "Epoch 12/50\n",
      "12/12 [==============================] - 2s 193ms/step - loss: 0.4810 - accuracy: 0.9015 - val_loss: 0.4573 - val_accuracy: 0.9170\n",
      "Epoch 13/50\n",
      "12/12 [==============================] - 2s 187ms/step - loss: 0.3377 - accuracy: 0.9390 - val_loss: 0.3941 - val_accuracy: 0.9087\n",
      "Epoch 14/50\n",
      "12/12 [==============================] - 2s 186ms/step - loss: 0.2682 - accuracy: 0.9487 - val_loss: 0.3600 - val_accuracy: 0.9336\n",
      "Epoch 15/50\n",
      "12/12 [==============================] - 2s 194ms/step - loss: 0.2590 - accuracy: 0.9515 - val_loss: 0.5974 - val_accuracy: 0.8548\n",
      "Epoch 16/50\n",
      "12/12 [==============================] - 3s 226ms/step - loss: 0.3657 - accuracy: 0.9542 - val_loss: 0.4053 - val_accuracy: 0.9461\n",
      "Epoch 17/50\n",
      "12/12 [==============================] - 2s 196ms/step - loss: 0.2257 - accuracy: 0.9681 - val_loss: 0.2479 - val_accuracy: 0.9627\n",
      "Epoch 18/50\n",
      "12/12 [==============================] - 2s 194ms/step - loss: 0.1440 - accuracy: 0.9931 - val_loss: 0.2358 - val_accuracy: 0.9668\n",
      "Epoch 19/50\n",
      "12/12 [==============================] - 2s 190ms/step - loss: 0.1900 - accuracy: 0.9750 - val_loss: 0.3161 - val_accuracy: 0.9295\n",
      "Epoch 20/50\n",
      "12/12 [==============================] - 2s 199ms/step - loss: 0.2141 - accuracy: 0.9612 - val_loss: 0.2383 - val_accuracy: 0.9751\n",
      "Epoch 21/50\n",
      "12/12 [==============================] - 2s 196ms/step - loss: 0.1135 - accuracy: 0.9945 - val_loss: 0.1842 - val_accuracy: 0.9793\n",
      "Epoch 22/50\n",
      "12/12 [==============================] - 2s 193ms/step - loss: 0.0763 - accuracy: 0.9972 - val_loss: 0.1489 - val_accuracy: 0.9834\n",
      "Epoch 23/50\n",
      "12/12 [==============================] - 2s 188ms/step - loss: 0.0642 - accuracy: 0.9958 - val_loss: 0.1181 - val_accuracy: 0.9834\n",
      "Epoch 24/50\n",
      "12/12 [==============================] - 2s 193ms/step - loss: 0.0512 - accuracy: 1.0000 - val_loss: 0.1049 - val_accuracy: 0.9834\n",
      "Epoch 25/50\n",
      "12/12 [==============================] - 2s 203ms/step - loss: 0.0381 - accuracy: 1.0000 - val_loss: 0.1110 - val_accuracy: 0.9834\n",
      "Epoch 26/50\n",
      "12/12 [==============================] - 2s 191ms/step - loss: 0.0316 - accuracy: 1.0000 - val_loss: 0.1160 - val_accuracy: 0.9834\n",
      "Epoch 27/50\n",
      "12/12 [==============================] - 2s 191ms/step - loss: 0.0283 - accuracy: 0.9986 - val_loss: 0.1163 - val_accuracy: 0.9834\n",
      "Epoch 28/50\n",
      "12/12 [==============================] - 3s 218ms/step - loss: 0.0225 - accuracy: 1.0000 - val_loss: 0.1153 - val_accuracy: 0.9834\n",
      "Epoch 29/50\n",
      "12/12 [==============================] - 2s 208ms/step - loss: 0.0244 - accuracy: 0.9972 - val_loss: 0.1092 - val_accuracy: 0.9834\n",
      "Epoch 30/50\n",
      "12/12 [==============================] - 2s 189ms/step - loss: 0.0440 - accuracy: 0.9945 - val_loss: 0.1057 - val_accuracy: 0.9834\n",
      "Epoch 31/50\n",
      "12/12 [==============================] - 2s 188ms/step - loss: 0.1677 - accuracy: 0.9515 - val_loss: 0.2311 - val_accuracy: 0.9336\n",
      "Epoch 32/50\n",
      "12/12 [==============================] - 2s 193ms/step - loss: 0.1072 - accuracy: 0.9709 - val_loss: 0.1398 - val_accuracy: 0.9834\n",
      "Epoch 33/50\n",
      "12/12 [==============================] - 2s 190ms/step - loss: 0.0566 - accuracy: 0.9972 - val_loss: 0.1120 - val_accuracy: 0.9834\n",
      "Epoch 34/50\n",
      "12/12 [==============================] - 2s 208ms/step - loss: 0.0314 - accuracy: 1.0000 - val_loss: 0.1117 - val_accuracy: 0.9834\n",
      "Epoch 35/50\n",
      "12/12 [==============================] - 2s 188ms/step - loss: 0.0287 - accuracy: 0.9972 - val_loss: 0.1033 - val_accuracy: 0.9834\n",
      "Epoch 36/50\n",
      "12/12 [==============================] - 2s 184ms/step - loss: 0.0208 - accuracy: 1.0000 - val_loss: 0.0995 - val_accuracy: 0.9834\n",
      "Epoch 37/50\n",
      "12/12 [==============================] - 2s 184ms/step - loss: 0.0164 - accuracy: 1.0000 - val_loss: 0.0997 - val_accuracy: 0.9834\n",
      "Epoch 38/50\n",
      "12/12 [==============================] - 3s 211ms/step - loss: 0.0136 - accuracy: 1.0000 - val_loss: 0.0988 - val_accuracy: 0.9834\n",
      "Epoch 39/50\n",
      "12/12 [==============================] - 2s 207ms/step - loss: 0.0121 - accuracy: 1.0000 - val_loss: 0.0984 - val_accuracy: 0.9834\n",
      "Epoch 40/50\n",
      "12/12 [==============================] - 2s 183ms/step - loss: 0.0106 - accuracy: 1.0000 - val_loss: 0.0981 - val_accuracy: 0.9834\n",
      "Epoch 41/50\n",
      "12/12 [==============================] - 2s 188ms/step - loss: 0.0098 - accuracy: 1.0000 - val_loss: 0.0973 - val_accuracy: 0.9834\n",
      "Epoch 42/50\n",
      "12/12 [==============================] - 2s 199ms/step - loss: 0.0090 - accuracy: 1.0000 - val_loss: 0.0961 - val_accuracy: 0.9834\n",
      "Epoch 43/50\n",
      "12/12 [==============================] - 2s 196ms/step - loss: 0.0083 - accuracy: 1.0000 - val_loss: 0.0974 - val_accuracy: 0.9834\n",
      "Epoch 44/50\n",
      "12/12 [==============================] - 3s 218ms/step - loss: 0.0077 - accuracy: 1.0000 - val_loss: 0.0979 - val_accuracy: 0.9834\n",
      "Epoch 45/50\n",
      "12/12 [==============================] - 3s 211ms/step - loss: 0.0076 - accuracy: 1.0000 - val_loss: 0.0987 - val_accuracy: 0.9834\n",
      "Epoch 46/50\n",
      "12/12 [==============================] - 2s 193ms/step - loss: 0.0075 - accuracy: 1.0000 - val_loss: 0.0972 - val_accuracy: 0.9834\n",
      "Epoch 47/50\n",
      "12/12 [==============================] - 2s 186ms/step - loss: 0.0067 - accuracy: 1.0000 - val_loss: 0.0967 - val_accuracy: 0.9834\n",
      "Epoch 48/50\n",
      "12/12 [==============================] - 2s 196ms/step - loss: 0.0063 - accuracy: 1.0000 - val_loss: 0.0964 - val_accuracy: 0.9834\n",
      "Epoch 49/50\n",
      "12/12 [==============================] - 2s 184ms/step - loss: 0.0058 - accuracy: 1.0000 - val_loss: 0.0953 - val_accuracy: 0.9834\n",
      "Epoch 50/50\n",
      "12/12 [==============================] - 2s 189ms/step - loss: 0.0055 - accuracy: 1.0000 - val_loss: 0.0977 - val_accuracy: 0.9834\n",
      "8/8 [==============================] - 1s 31ms/step\n",
      "RNN Model Accuracy: 98.34%\n",
      "              precision    recall  f1-score   support\n",
      "\n",
      "           0       1.00      0.67      0.80         6\n",
      "           1       1.00      1.00      1.00         8\n",
      "           2       1.00      1.00      1.00         6\n",
      "           3       1.00      1.00      1.00        10\n",
      "           4       1.00      1.00      1.00         5\n",
      "           5       1.00      1.00      1.00         9\n",
      "           6       1.00      1.00      1.00         9\n",
      "           7       1.00      1.00      1.00         9\n",
      "           8       1.00      0.88      0.94        17\n",
      "           9       1.00      1.00      1.00        10\n",
      "          10       1.00      1.00      1.00         7\n",
      "          11       1.00      1.00      1.00         7\n",
      "          12       1.00      1.00      1.00        15\n",
      "          13       1.00      1.00      1.00         6\n",
      "          14       0.91      1.00      0.95        10\n",
      "          15       1.00      1.00      1.00        21\n",
      "          16       1.00      1.00      1.00        10\n",
      "          17       1.00      1.00      1.00         3\n",
      "          18       1.00      1.00      1.00        14\n",
      "          19       1.00      1.00      1.00         8\n",
      "          20       1.00      1.00      1.00        11\n",
      "          21       1.00      1.00      1.00         7\n",
      "          22       0.82      1.00      0.90         9\n",
      "          23       1.00      1.00      1.00        19\n",
      "          24       0.83      1.00      0.91         5\n",
      "\n",
      "    accuracy                           0.98       241\n",
      "   macro avg       0.98      0.98      0.98       241\n",
      "weighted avg       0.99      0.98      0.98       241\n",
      "\n"
     ]
    }
   ],
   "source": [
    "from keras.models import Sequential\n",
    "from keras.layers import Embedding, LSTM, Dense, SpatialDropout1D\n",
    "from keras.preprocessing.text import Tokenizer\n",
    "from keras.preprocessing.sequence import pad_sequences\n",
    "from sklearn.feature_extraction.text import TfidfVectorizer\n",
    "\n",
    "# Define the maximum number of words to consider\n",
    "max_words = 5000\n",
    "\n",
    "# Tokenize and pad sequences\n",
    "tokenizer = Tokenizer(num_words=max_words, split=' ')\n",
    "tokenizer.fit_on_texts(df['Processed_Resume'])\n",
    "X = tokenizer.texts_to_sequences(df['Processed_Resume'])\n",
    "X = pad_sequences(X, maxlen=100)\n",
    "\n",
    "# Split data into train and test sets\n",
    "X_train, X_test, y_train, y_test = train_test_split(X, df['Encoded_Category'], test_size=0.25, random_state=42)\n",
    "\n",
    "# Build the RNN model\n",
    "model = Sequential()\n",
    "model.add(Embedding(input_dim=max_words, output_dim=128, input_length=100))\n",
    "model.add(SpatialDropout1D(0.2))\n",
    "model.add(LSTM(100))\n",
    "model.add(Dense(32, activation='relu'))\n",
    "model.add(Dense(len(label.classes_), activation='softmax'))\n",
    "model.compile(loss='sparse_categorical_crossentropy', optimizer='adam', metrics=['accuracy'])\n",
    "\n",
    "# Train the model\n",
    "history = model.fit(X_train, y_train, validation_data=(X_test, y_test), epochs=50, batch_size=64)\n",
    "\n",
    "# Evaluate the RNN model\n",
    "# y_pred3 = model.predict(X_test)\n",
    "y_pred_rnn_prob = model.predict(X_test)\n",
    "y_pred3 = y_pred_rnn_prob.argmax(axis=-1)\n",
    "accuracy_rnn = accuracy_score(y_test, y_pred3)\n",
    "print('RNN Model Accuracy: {:.2f}%'.format(accuracy_rnn * 100))\n",
    "print(classification_report(y_test, y_pred3))\n"
   ]
  },
  {
   "cell_type": "markdown",
   "id": "7594d627",
   "metadata": {},
   "source": [
    "# <b>Prediction System</b>"
   ]
  },
  {
   "cell_type": "markdown",
   "metadata": {},
   "source": [
    "#### <b>Saving the created models</b>"
   ]
  },
  {
   "cell_type": "code",
   "execution_count": 23,
   "id": "716d3471",
   "metadata": {},
   "outputs": [],
   "source": [
    "import pickle\n",
    "pickle.dump(tfidf,open('tfidf.pkl','wb'))\n",
    "pickle.dump(knc, open('knc.pkl', 'wb'))\n",
    "pickle.dump(mnb, open('mnb.pkl', 'wb'))\n",
    "pickle.dump(model, open('rnn.pkl', 'wb'))\n"
   ]
  },
  {
   "cell_type": "code",
   "execution_count": 24,
   "id": "06b1805c",
   "metadata": {},
   "outputs": [],
   "source": [
    "resume_1 = \"\"\"I am a data scientist specializing in machine\n",
    "learning, deep learning, and computer vision. With\n",
    "a strong background in mathematics, statistics,\n",
    "and programming, I am passionate about\n",
    "uncovering hidden patterns and insights in data.\n",
    "I have extensive experience in developing\n",
    "predictive models, implementing deep learning\n",
    "algorithms, and designing computer vision\n",
    "systems. My technical skills include proficiency in\n",
    "Python, Sklearn, TensorFlow, and PyTorch.\n",
    "What sets me apart is my ability to effectively\n",
    "communicate complex concepts to diverse\n",
    "audiences. I excel in translating technical insights\n",
    "into actionable recommendations that drive\n",
    "informed decision-making.\n",
    "If you're looking for a dedicated and versatile data\n",
    "scientist to collaborate on impactful projects, I am\n",
    "eager to contribute my expertise. Let's harness the\n",
    "power of data together to unlock new possibilities\n",
    "and shape a better future.\n",
    "Contact & Sources\n",
    "Email: 611noorsaeed@gmail.com\n",
    "Phone: 03442826192\n",
    "Github: https://github.com/611noorsaeed\n",
    "Linkdin: https://www.linkedin.com/in/noor-saeed654a23263/\n",
    "Blogs: https://medium.com/@611noorsaeed\n",
    "Youtube: Artificial Intelligence\n",
    "ABOUT ME\n",
    "WORK EXPERIENCE\n",
    "SKILLES\n",
    "NOOR SAEED\n",
    "LANGUAGES\n",
    "English\n",
    "Urdu\n",
    "Hindi\n",
    "I am a versatile data scientist with expertise in a wide\n",
    "range of projects, including machine learning,\n",
    "recommendation systems, deep learning, and computer\n",
    "vision. Throughout my career, I have successfully\n",
    "developed and deployed various machine learning models\n",
    "to solve complex problems and drive data-driven\n",
    "decision-making\n",
    "Machine Learnine\n",
    "Deep Learning\n",
    "Computer Vision\n",
    "Recommendation Systems\n",
    "Data Visualization\n",
    "Programming Languages (Python, SQL)\n",
    "Data Preprocessing and Feature Engineering\n",
    "Model Evaluation and Deployment\n",
    "Statistical Analysis\n",
    "Communication and Collaboration\n",
    "\"\"\""
   ]
  },
  {
   "cell_type": "markdown",
   "metadata": {},
   "source": [
    "#### <b> Predicting Resume-1 by KNearestClassifier model</b>"
   ]
  },
  {
   "cell_type": "code",
   "execution_count": 25,
   "id": "6ccfb164",
   "metadata": {},
   "outputs": [
    {
     "name": "stdout",
     "output_type": "stream",
     "text": [
      "Predicted Category: Data Science\n",
      "6\n"
     ]
    }
   ],
   "source": [
    "import pickle\n",
    "\n",
    "# Load the trained KNearest classifier model\n",
    "clf = pickle.load(open('knc.pkl', 'rb'))\n",
    "\n",
    "# Clean the input resume\n",
    "cleaned_resume = resumeKeywords(resume_1)\n",
    "\n",
    "# Transform the cleaned resume using the trained TfidfVectorizer\n",
    "input_features = tfidf.transform([cleaned_resume])\n",
    "\n",
    "# Make the prediction using the loaded classifier\n",
    "prediction_id = clf.predict(input_features)[0]\n",
    "\n",
    "category_name = category_mapping.get(prediction_id, \"Unknown\")\n",
    "\n",
    "print(\"Predicted Category:\", category_name)\n",
    "print(prediction_id)\n"
   ]
  },
  {
   "cell_type": "markdown",
   "id": "94f2f88f",
   "metadata": {},
   "source": [
    "#### <b> Predicting Resume-1 by Multinomial Naive Bayes model</b>"
   ]
  },
  {
   "cell_type": "code",
   "execution_count": 42,
   "metadata": {},
   "outputs": [
    {
     "name": "stdout",
     "output_type": "stream",
     "text": [
      "Predicted Category: Data Science\n",
      "6\n"
     ]
    }
   ],
   "source": [
    "import pickle\n",
    "\n",
    "# Load the trained  Multinomial Naive Bayes model\n",
    "mnb = pickle.load(open('mnb.pkl', 'rb'))\n",
    "\n",
    "# Clean the input resume\n",
    "cleaned_resume = resumeKeywords(resume_1)\n",
    "\n",
    "# Transform the cleaned resume using the trained TfidfVectorizer\n",
    "input_features = tfidf.transform([cleaned_resume])\n",
    "\n",
    "# Make the prediction using the loaded classifier\n",
    "prediction_id = mnb.predict(input_features)[0]\n",
    "\n",
    "category_name = category_mapping.get(prediction_id, \"Unknown\")\n",
    "\n",
    "print(\"Predicted Category:\", category_name)\n",
    "print(prediction_id)"
   ]
  },
  {
   "cell_type": "markdown",
   "metadata": {},
   "source": [
    "#### <b> Predicting Resume-1 by RNN model</b>"
   ]
  },
  {
   "cell_type": "code",
   "execution_count": 57,
   "metadata": {},
   "outputs": [
    {
     "name": "stdout",
     "output_type": "stream",
     "text": [
      "1/1 [==============================] - 1s 1s/step\n",
      "Predicted Category: Data Science\n",
      "Predicted Category ID: 6\n"
     ]
    }
   ],
   "source": [
    "import pickle\n",
    "rnn = pickle.load(open('rnn.pkl', 'rb'))\n",
    "# Define the maximum number of words to consider\n",
    "max_words = 5000\n",
    "\n",
    "# Tokenize and pad sequences\n",
    "tokenizer = Tokenizer(num_words=max_words, split=' ')\n",
    "tokenizer.fit_on_texts(df['Processed_Resume'])  # Use the same tokenizer used for training\n",
    "cleaned_resume = resumeKeywords(resume_1)  # Clean the input resume\n",
    "\n",
    "# Tokenize the cleaned input resume\n",
    "input_sequence = tokenizer.texts_to_sequences([cleaned_resume])\n",
    "\n",
    "input_sequence = pad_sequences(input_sequence, maxlen=100)\n",
    "\n",
    "# Make the prediction using the loaded RNN model\n",
    "predicted_probabilities = rnn.predict(input_sequence)\n",
    "\n",
    "predictioon_id = np.argmax(predicted_probabilities)\n",
    "# Map the category ID to the category name using category_mapping\n",
    "category_name = category_mapping.get(prediction_id, \"Unknown\")\n",
    "\n",
    "print(\"Predicted Category:\", category_name)\n",
    "print(\"Predicted Category ID:\", prediction_id)\n"
   ]
  }
 ],
 "metadata": {
  "kernelspec": {
   "display_name": "Python 3 (ipykernel)",
   "language": "python",
   "name": "python3"
  },
  "language_info": {
   "codemirror_mode": {
    "name": "ipython",
    "version": 3
   },
   "file_extension": ".py",
   "mimetype": "text/x-python",
   "name": "python",
   "nbconvert_exporter": "python",
   "pygments_lexer": "ipython3",
   "version": "3.11.4"
  }
 },
 "nbformat": 4,
 "nbformat_minor": 5
}
